{
 "cells": [
  {
   "cell_type": "markdown",
   "id": "2bc5ebd4-c0ec-4d7b-bd14-ddf0fa4e99dd",
   "metadata": {},
   "source": [
    "# [What is REST? ](https://www.codecademy.com/articles/what-is-rest)\n",
    "# [What is CRUD?](https://www.codecademy.com/articles/what-is-crud)"
   ]
  }
 ],
 "metadata": {
  "kernelspec": {
   "display_name": ".NET (C#)",
   "language": "C#",
   "name": ".net-csharp"
  },
  "language_info": {
   "file_extension": ".cs",
   "mimetype": "text/x-csharp",
   "name": "C#",
   "pygments_lexer": "csharp",
   "version": "8.0"
  }
 },
 "nbformat": 4,
 "nbformat_minor": 5
}
