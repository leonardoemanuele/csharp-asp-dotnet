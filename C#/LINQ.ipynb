{
 "cells": [
  {
   "cell_type": "markdown",
   "id": "cee9ddb8-d021-47ab-9851-f7599628dd96",
   "metadata": {},
   "source": [
    "# Intro to LINQ\n",
    "## Suppose that we want to find all the names in a list which are longer than 6 letters and return them in all UPPERCASE"
   ]
  },
  {
   "cell_type": "code",
   "execution_count": 1,
   "id": "2c3083db-87a2-4150-9cd3-e3d5ebf76c39",
   "metadata": {},
   "outputs": [],
   "source": [
    "List<string> heroes = new List<string> { \"D. Va\", \"Lucio\", \"Mercy\", \"Soldier 76\", \"Pharah\", \"Reinhardt\" };\n",
    "\n",
    "// Approach 1: without LINQ\n",
    "      List<string> longLoudHeroes = new List<string>();\n",
    "      \n",
    "      foreach (string hero in heroes)\n",
    "      {\n",
    "        if (hero.Length > 6)\n",
    "        {\n",
    "          string formatted = hero.ToUpper();\n",
    "          longLoudHeroes.Add(formatted);\n",
    "        }\n",
    "      }"
   ]
  },
  {
   "cell_type": "markdown",
   "id": "b5eb69b2-c506-407c-be95-e2e17fab6644",
   "metadata": {},
   "source": [
    "## And remember that this will only work in a _running C# file_!"
   ]
  },
  {
   "cell_type": "markdown",
   "id": "e5f93a54-610a-429b-9ac7-f49e0da1f5e2",
   "metadata": {},
   "source": [
    "# What if our Database was stored in a separate server somewhere and it was implemented with SQL instead of C#?"
   ]
  },
  {
   "cell_type": "code",
   "execution_count": 12,
   "id": "9303a782-8a0e-4097-a347-ebdf21caf118",
   "metadata": {},
   "outputs": [
    {
     "name": "stdout",
     "output_type": "stream",
     "text": [
      "Your long loud heroes are...\n",
      "SOLDIER 76\n",
      "REINHARDT\n"
     ]
    }
   ],
   "source": [
    "// Approach 2: with LINQ\n",
    "      var longLoudHeroes2 = from h in heroes\n",
    "            where h.Length > 6\n",
    "            select h.ToUpper();\n",
    "      \n",
    "      // Printing...\n",
    "      Console.WriteLine(\"Your long loud heroes are...\");\n",
    "      \n",
    "      foreach (string hero in longLoudHeroes2)\n",
    "      {\n",
    "        Console.WriteLine(hero);\n",
    "      }"
   ]
  },
  {
   "cell_type": "markdown",
   "id": "66a0d9ee-472e-4905-bc87-d01f5e40ca6f",
   "metadata": {},
   "source": [
    "## The solution is _LINQ_. \n",
    "## It works for complex selections and transformations, and it works on local and remote data sources. \n",
    "## Each _selection/trasformation_ is called _**Query**_, and LINQ give us new syntax and methods to write them."
   ]
  },
  {
   "cell_type": "code",
   "execution_count": 5,
   "id": "0aedefff-ca02-4192-b155-b02ef04aff12",
   "metadata": {},
   "outputs": [
    {
     "name": "stdout",
     "output_type": "stream",
     "text": [
      "System.Linq.Enumerable+WhereArrayIterator`1[System.String]\n"
     ]
    }
   ],
   "source": [
    "string[] names = { \"Tiana\", \"Dwayne\", \"Helena\" };\n",
    "\n",
    "var filteredNames = from n in names\n",
    "  where n.Contains(\"a\")\n",
    "  select n;\n",
    "\n",
    "Console.WriteLine(filteredNames);"
   ]
  },
  {
   "cell_type": "markdown",
   "id": "fc3eb3ab-c768-465e-9487-97159b425930",
   "metadata": {},
   "source": [
    "## LINQ is like an add-on that import SQL to C# and .NET "
   ]
  },
  {
   "cell_type": "code",
   "execution_count": 11,
   "id": "f5157012-93bf-43f4-a505-cab7ba4cd7de",
   "metadata": {},
   "outputs": [
    {
     "name": "stdout",
     "output_type": "stream",
     "text": [
      "System.Linq.Enumerable+WhereArrayIterator`1[System.String]\n"
     ]
    }
   ],
   "source": [
    "var shortNames = names.Where(n => n.Length < 4);"
   ]
  },
  {
   "cell_type": "markdown",
   "id": "c603898f-a128-4259-89d4-9dc5354abc98",
   "metadata": {},
   "source": [
    "## And we can also use new methods on the collections, like _Where()_"
   ]
  },
  {
   "cell_type": "markdown",
   "id": "a4b383ae-d3bd-4efb-baed-f83ae1b2c53a",
   "metadata": {},
   "source": [
    "# VAR \n",
    "## Every LINQ query returns either a single value or an object of type:\n",
    "## _IEnumerable< T >_\n",
    "## For now all you need to know about it is that:\n",
    "* ## It works with _foreach_ loops just like arrays and lists\n",
    "* ## You can check its length with _Count()_\n",
    "## Since the single value type and/or the parameter _type T_ _is not always known_, it's common to store a query's returned value in a viariable of _type **var**_"
   ]
  },
  {
   "cell_type": "markdown",
   "id": "11454059-0872-402c-9e3a-20c50b2dfd13",
   "metadata": {},
   "source": [
    "## **_var_** is just an implicitly typed variable :\n",
    "* ## We let the C# compiler determine the actual types for us!"
   ]
  },
  {
   "cell_type": "code",
   "execution_count": null,
   "id": "dae62ef0-f0fa-4759-97f2-9c1e46176f36",
   "metadata": {},
   "outputs": [],
   "source": [
    "string[] names = { \"Tiana\", \"Dwayne\", \"Helena\" };\n",
    "var shortNames = names.Where(n => n.Length < 4);"
   ]
  },
  {
   "cell_type": "code",
   "execution_count": 13,
   "id": "4cd910d2-0ce2-4e2b-a8ee-16b542c22a3d",
   "metadata": {},
   "outputs": [
    {
     "name": "stdout",
     "output_type": "stream",
     "text": [
      "System.Linq.Enumerable+WhereArrayIterator`1[System.String]\n"
     ]
    }
   ],
   "source": [
    "Console.WriteLine(shortNames);"
   ]
  },
  {
   "cell_type": "markdown",
   "id": "466d1891-89be-4b81-abc5-69edd96067d9",
   "metadata": {},
   "source": [
    "## In this case, the type returned from the _Where()_ method and stored inside _shortNames_ is of type _IEnumerable< string >_\n",
    "## But we dont have to worry as long as we use _var_"
   ]
  },
  {
   "cell_type": "markdown",
   "id": "d125ea82-eb64-472f-a087-92d104adcfc4",
   "metadata": {},
   "source": [
    "# Basic Query Syntax\n",
    "* ## The _from_ operator declares a variable  to iterate through the sequence. In this case h is used;\n",
    "* ## The _where_ operator picks elements from the sequence if they satisfy the given condition.(OPTIONAL) \n",
    "* ## The _select_ operator determines what is returned for each element in the sequence."
   ]
  },
  {
   "cell_type": "code",
   "execution_count": 14,
   "id": "9f746ece-d4bc-468d-9d01-664c4ad92129",
   "metadata": {},
   "outputs": [],
   "source": [
    "string[] heroes = { \"D. Va\", \"Lucio\", \"Mercy\", \"Soldier 76\", \"Pharah\", \"Reinhardt\" };\n",
    " \n",
    "var shortHeroes = from h in heroes\n",
    "  where h.Length < 8\n",
    "  select h;"
   ]
  },
  {
   "cell_type": "markdown",
   "id": "7aae4add-a322-4836-899b-0ed1d7324889",
   "metadata": {},
   "source": [
    "## In this example _select_ is used **to make a new string** with \"Hero: \" for each element"
   ]
  },
  {
   "cell_type": "code",
   "execution_count": 17,
   "id": "b9ec8af2-aa92-4049-aec4-f3cb70002a48",
   "metadata": {},
   "outputs": [],
   "source": [
    "var heroTitles = from hero in heroes\n",
    "  select $\"HERO: {hero.ToUpper()}\";"
   ]
  },
  {
   "cell_type": "code",
   "execution_count": 18,
   "id": "de423602-a142-4e95-b9dc-4581772554b4",
   "metadata": {},
   "outputs": [
    {
     "name": "stdout",
     "output_type": "stream",
     "text": [
      "HERO: D. VA\n",
      "HERO: LUCIO\n",
      "HERO: MERCY\n",
      "HERO: SOLDIER 76\n",
      "HERO: PHARAH\n",
      "HERO: REINHARDT\n"
     ]
    }
   ],
   "source": [
    "foreach(string h in heroTitles)\n",
    "{\n",
    "    Console.WriteLine(h);\n",
    "}"
   ]
  },
  {
   "cell_type": "markdown",
   "id": "af7678ee-82db-4b4b-9136-958a97cbbe3f",
   "metadata": {},
   "source": [
    "## Example"
   ]
  },
  {
   "cell_type": "code",
   "execution_count": 19,
   "id": "a63fbdc6-8590-444b-ba9e-423285011043",
   "metadata": {},
   "outputs": [],
   "source": [
    "string[] heroes = { \"D. Va\", \"Lucio\", \"Mercy\", \"Soldier 76\", \"Pharah\", \"Reinhardt\" };\n",
    "\n",
    "      var heroesWithI = from h in heroes\n",
    "      where h.Contains(\"i\")\n",
    "      select h;\n",
    "\n",
    "      var underscored = from h in heroes\n",
    "      select h.Replace(\" \", \"_\");"
   ]
  },
  {
   "cell_type": "markdown",
   "id": "a1bc6415-1797-4686-a0d3-173c84519b51",
   "metadata": {},
   "source": [
    "# Basic Method Syntax\n",
    "## Method Syntax looks like plain old C#. We make methods calls on the collection we are querying:"
   ]
  },
  {
   "cell_type": "code",
   "execution_count": null,
   "id": "cb8d99f1-bc9f-4057-9f0e-c5f33d6b16e8",
   "metadata": {
    "tags": []
   },
   "outputs": [],
   "source": [
    "var longHeroes = heroes.Where(h => h.Length > 6);\n",
    "var longLoudHeroes = longHeroes.Select(h => h.ToUpper());"
   ]
  },
  {
   "cell_type": "markdown",
   "id": "681796de-1b0d-4e3e-800d-1a5cce99270e",
   "metadata": {},
   "source": [
    "## We see _Where()_ and _Select()_ method as replacement for _where_ and _select_ **operators**"
   ]
  },
  {
   "cell_type": "markdown",
   "id": "f2921c05-d9fc-4a0a-b0da-e1f5bf6d125f",
   "metadata": {},
   "source": [
    "* # Where()\n",
    "## The method _Where()_ takes a lambda expression,( which returns true or false) as an argument and calls the same expression on every element in the collection.\n",
    "## If it returns _true_ then the element is added to the resulting collection."
   ]
  },
  {
   "cell_type": "markdown",
   "id": "e66da6ea-f32d-47c1-be06-a924089ccfd4",
   "metadata": {},
   "source": [
    "## Example"
   ]
  },
  {
   "cell_type": "code",
   "execution_count": 21,
   "id": "9aa2a4ad-6d0a-46f0-bd79-5df2a00fe74e",
   "metadata": {},
   "outputs": [
    {
     "name": "stdout",
     "output_type": "stream",
     "text": [
      "Lucio\n",
      "Soldier 76\n",
      "Reinhardt\n"
     ]
    }
   ],
   "source": [
    "var heroesWithI = heroes.Where(h => h.Contains(\"i\"));\n",
    " foreach(string h in heroesWithI)\n",
    "      {\n",
    "        Console.WriteLine(h);\n",
    "      }"
   ]
  },
  {
   "cell_type": "markdown",
   "id": "ab274adc-bf60-4003-aeae-3103f951b2ad",
   "metadata": {},
   "source": [
    "* # Select() \n",
    "## To transform each element in a sequence, example, writing heroes in uppercase, we can use Select()\n",
    "## We can combine _Select()_ and _Where()_ in two ways:"
   ]
  },
  {
   "cell_type": "markdown",
   "id": "89658d14-9a84-4022-a0e9-d65508d25c0b",
   "metadata": {},
   "source": [
    "* ## 1. Use separate statements:"
   ]
  },
  {
   "cell_type": "code",
   "execution_count": null,
   "id": "aa21d9fb-3e4c-4934-9eb2-a6c187bfdf58",
   "metadata": {},
   "outputs": [],
   "source": [
    "var longHeroes = heroes.Where(h => h.Length > 6);\n",
    "var longLoudHeroes = longHeroes.Select(h => h.ToUpper());"
   ]
  },
  {
   "cell_type": "markdown",
   "id": "a0223e7a-b1cc-47e5-b7e8-b201241c1508",
   "metadata": {},
   "source": [
    "* ## 2. Chain the expressions:"
   ]
  },
  {
   "cell_type": "code",
   "execution_count": 22,
   "id": "b492b1e0-4e3b-4204-a168-c6dca7182ce1",
   "metadata": {},
   "outputs": [],
   "source": [
    "var longLoudHeroes = heroes\n",
    ".Where(h => h.Length > 6)\n",
    ".Select(h => h.ToUpper());"
   ]
  },
  {
   "cell_type": "markdown",
   "id": "0ed62f02-8bc1-457e-99b6-642adfaaca8f",
   "metadata": {},
   "source": [
    "# When to use Each Syntax:\n",
    "* ## For single operator queries use _method syntax_\n",
    "* ## For everything else use query syntax"
   ]
  },
  {
   "cell_type": "markdown",
   "id": "611eef40-5e97-4c9b-b6ae-a07c45407988",
   "metadata": {},
   "source": [
    "# Excercise"
   ]
  },
  {
   "cell_type": "code",
   "execution_count": 23,
   "id": "51fadbd5-4c01-472c-9d67-6de741751258",
   "metadata": {},
   "outputs": [
    {
     "name": "stdout",
     "output_type": "stream",
     "text": [
      "'result': \n",
      "Introducing...D. Va!\n",
      "Introducing...Lucio!\n",
      "Introducing...Mercy!\n",
      "Introducing...Soldier 76!\n",
      "Introducing...Pharah!\n",
      "Introducing...Reinhardt!\n",
      "\n",
      "'result2': \n",
      "2\n",
      "7\n"
     ]
    }
   ],
   "source": [
    " string[] heroes = { \"D. Va\", \"Lucio\", \"Mercy\", \"Soldier 76\", \"Pharah\", \"Reinhardt\" };\n",
    "\n",
    "      // Method syntax\n",
    "      var result = heroes.Select(h => $\"Introducing...{h}!\");\n",
    "      \n",
    "      // Query syntax\n",
    "      var result2 = from h in heroes\n",
    "        where h.Contains(\" \")\n",
    "        select h.IndexOf(\" \");\n",
    "      \n",
    "      // Printing...\n",
    "      Console.WriteLine(\"'result': \");\n",
    "      foreach (var v in result)\n",
    "      {\n",
    "        Console.WriteLine(v);\n",
    "      }\n",
    "      \n",
    "      Console.WriteLine(\"\\n'result2': \");\n",
    "      foreach (var v in result2)\n",
    "      {\n",
    "        Console.WriteLine(v);\n",
    "      }"
   ]
  },
  {
   "cell_type": "markdown",
   "id": "64711256-f42d-4dbd-bbb6-00b78bb3df39",
   "metadata": {},
   "source": [
    "# LINQ with other collection\n",
    "## Technically LINQ can be used with any type that supports _foreach_ loops, but we won't cover all of those here."
   ]
  },
  {
   "cell_type": "code",
   "execution_count": 24,
   "id": "7a6e9d92-b67e-4089-867e-15233f264994",
   "metadata": {},
   "outputs": [
    {
     "name": "stdout",
     "output_type": "stream",
     "text": [
      "D. Va\n",
      "Soldier 76\n"
     ]
    }
   ],
   "source": [
    "List<string> heroesList = new List<string> { \"D. Va\", \"Lucio\", \"Mercy\", \"Soldier 76\", \"Pharah\", \"Reinhardt\" };\n",
    "\n",
    "var result = heroesList\n",
    ".Where(h => h.Contains(\".\") || h.Contains(\"7\"))\n",
    ".Select(h => h);\n",
    "\n",
    "foreach(var r in result)\n",
    "{\n",
    "  Console.WriteLine(r);\n",
    "}"
   ]
  },
  {
   "cell_type": "markdown",
   "id": "0a863cb9-785b-4071-a31e-af15d042ff1c",
   "metadata": {},
   "source": [
    "# Excercise QUIZ"
   ]
  },
  {
   "cell_type": "code",
   "execution_count": null,
   "id": "f0effda3-3b9f-4c95-980c-55735d3c6642",
   "metadata": {},
   "outputs": [],
   "source": [
    "List<int> numbers = new List<int> { 3, 6, 9, 17, 21 };\n",
    " \n",
    "Console.WriteLine(numbers.Count);\n",
    " \n",
    "var triplets = numbers.Where(x => x % 3 == 0);\n",
    " \n",
    "Console.WriteLine(triplets.Count());"
   ]
  },
  {
   "cell_type": "markdown",
   "id": "4506725f-272a-4725-bdf9-a8209e3ca8f8",
   "metadata": {},
   "source": [
    "# Project Programming Language"
   ]
  },
  {
   "cell_type": "markdown",
   "id": "3f5fe19d-d7b0-4429-99cf-130751dea9e6",
   "metadata": {},
   "source": [
    "### Program.cs"
   ]
  },
  {
   "cell_type": "code",
   "execution_count": null,
   "id": "d07235fe-adbb-414c-bc63-9a4476fe933f",
   "metadata": {
    "tags": []
   },
   "outputs": [],
   "source": [
    "using System;\n",
    "using System.Collections.Generic;\n",
    "using System.IO;\n",
    "using System.Linq;\n",
    "\n",
    "namespace ProgrammingLanguages\n",
    "{\n",
    "  class Program\n",
    "  {\n",
    "    static void Main()\n",
    "    {\n",
    "      List<Language> languages = File.ReadAllLines(\"./languages.tsv\")\n",
    "        .Skip(1)\n",
    "        .Select(line => Language.FromTsv(line))\n",
    "        .ToList();\n",
    "//1. Printing each values in the file\n",
    "        foreach(var l in languages)\n",
    "        {\n",
    "          //Console.WriteLine(l.Prettify());\n",
    "        }\n",
    "//2. Query the List such that returns a collection of string for each language **Convert LINQ object to String** \n",
    "        var result = from l in languages\n",
    "        select $\"YEAR:{l.Year}\\nNAME:{l.Name}\\nDEV:{l.ChiefDeveloper}\\nPREDECESSORS:{l.Predecessors}\";\n",
    "//Printing the collection        \n",
    "          foreach(string u in result)\n",
    "          {\n",
    "//Console.WriteLine($\"\\n{u}\");\n",
    "          }\n",
    "      \n",
    "//3. Find for a languages which have \"Microsoft\" included in their ChiefDeveloper property. \n",
    " var query1 = from m in languages\n",
    " where m.ChiefDeveloper.Contains(\"Microsoft\")\n",
    " select m;\n",
    "\n",
    "//Printing query1\n",
    "foreach(var m in query1)\n",
    "{\n",
    "    //Console.WriteLine(m.Prettify());\n",
    "}\n",
    "//Find all of the language names that contain the word \"Script\" in the property Name\n",
    "var query2 = from l in languages\n",
    "where l.Name.Contains(\"Script\")\n",
    "select l.Name;\n",
    "//Printing only the name \n",
    "foreach(string s in query2)\n",
    "{\n",
    "//Console.WriteLine(s);\n",
    "}\n",
    "\n",
    "//7. How many languages were launched between 1995 and 2005?\n",
    "var query3 = from l in languages\n",
    "where l.Year >= 1995 && l.Year <= 2005\n",
    "select $\"{l.Name} was invented in {l.Year}\";\n",
    "\n",
    "foreach(string s in query3)\n",
    "{\n",
    "Console.WriteLine(s);\n",
    "}\n",
    "\n",
    "    }\n",
    "  }\n",
    "}"
   ]
  },
  {
   "cell_type": "markdown",
   "id": "e5940e71-ad1f-446c-9eda-533b1c13201c",
   "metadata": {},
   "source": [
    "### Class Language"
   ]
  },
  {
   "cell_type": "code",
   "execution_count": null,
   "id": "1c9af0da-d06a-4151-b2d2-db814091d7d2",
   "metadata": {},
   "outputs": [],
   "source": [
    "using System;\n",
    "\n",
    "namespace ProgrammingLanguages\n",
    "{\n",
    "  public class Language\n",
    "  {\n",
    "    public static Language FromTsv(string tsvLine)\n",
    "    {\n",
    "      string[] values = tsvLine.Split('\\t');\n",
    "      Language lang = new Language(\n",
    "        Convert.ToInt32(values[0]),\n",
    "        Convert.ToString(values[1]),\n",
    "        Convert.ToString(values[2]),\n",
    "        Convert.ToString(values[3]));\n",
    "      return lang;\n",
    "    }\n",
    "\n",
    "    public int Year\n",
    "    { get; set; }\n",
    "\n",
    "    public string Name\n",
    "    { get; set; }\n",
    "\n",
    "    public string ChiefDeveloper\n",
    "    { get; set; }\n",
    "\n",
    "    public string Predecessors\n",
    "    { get; set; }\n",
    "\n",
    "    public Language(int year, string name, string chiefDeveloper, string predecessors)\n",
    "    {\n",
    "      Year = year;\n",
    "      Name = name;\n",
    "      ChiefDeveloper = chiefDeveloper;\n",
    "      Predecessors = predecessors;\n",
    "    }\n",
    "\n",
    "    public string Prettify()\n",
    "    {\n",
    "      return $\"{Year}, {Name}, {ChiefDeveloper}, {Predecessors}\\n\";\n",
    "    }\n",
    "  }\n",
    "}"
   ]
  }
 ],
 "metadata": {
  "kernelspec": {
   "display_name": ".NET (C#)",
   "language": "C#",
   "name": ".net-csharp"
  },
  "language_info": {
   "file_extension": ".cs",
   "mimetype": "text/x-csharp",
   "name": "C#",
   "pygments_lexer": "csharp",
   "version": "8.0"
  }
 },
 "nbformat": 4,
 "nbformat_minor": 5
}
