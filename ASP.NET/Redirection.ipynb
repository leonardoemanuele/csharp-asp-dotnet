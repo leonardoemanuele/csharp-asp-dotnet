{
 "cells": [
  {
   "cell_type": "markdown",
   "id": "5b7f3b3c-06f7-4676-b6c9-201184f5acd6",
   "metadata": {},
   "source": [
    "# Intro to Redirection\n",
    "## So far, every handler method method has rendered the same view page.\n",
    "## For example,\n",
    "* ## _OnGet()_ in _Index.cshtml.cs_ model will always send a response with _Index.cshtml_ view\n",
    "* ## _OnPOst()_ in About.cshtml.cs model will alays send a response with _About.cshtml_ view\n",
    "## Sometimes we want to redirect users to a different page\n",
    "* ## A blog website has a “Posts” page showing blog posts and a separate “Create” page. After submitting on “Create”, the user should be redirected to the list of blog posts on “Posts”.\n",
    "* ## A page on your education website has become outdated, and you add a new one to replace it. Learners requesting the old page should be redirected to the newer version of the page (assuming you have to keep the old page for those who are half-way through the content).\n",
    "* ## A user submitted a request for non-existent data on your site and you want to show them a “Not Found” page\n",
    "## This lesson will show you some useful methods, including:\n",
    "* ### _RedirectToPage()_\n",
    "* ### _NotFound()_\n",
    "* ### _Page()_"
   ]
  },
  {
   "cell_type": "markdown",
   "id": "ef0aa076-c46e-45c6-9ba1-122b4f2982bc",
   "metadata": {},
   "source": [
    "* # RedirectToPage()\n",
    "## To perform redirection we need our methods to retuen an object. This object will determine what kind of response is sent back to the browser. \n",
    "## This object can be any type that implements the _IActionResult_ interface. \n",
    "## For basic redirection, call it with a string argument and return and return the result. \n",
    "## The string will represent the destination page, written like the URL segment, like \"/Privacy\" or \"/About/Me\"\n",
    "Here’s an example handler method that always redirects learners to the checkout page:"
   ]
  },
  {
   "cell_type": "code",
   "execution_count": null,
   "id": "8b1a9932-b329-4a34-aa14-e9d17ec51f1d",
   "metadata": {},
   "outputs": [],
   "source": [
    "public IActionResult OnPost()\n",
    "{\n",
    "  return RedirectToPage(\"/Checkout\");\n",
    "}"
   ]
  },
  {
   "cell_type": "markdown",
   "id": "6fe008a5-4738-4131-bd4d-f5566857c94c",
   "metadata": {},
   "source": [
    "## Note that the _/_ makes the path relative to the _**Pages**_ folder. \n",
    "## Basically this takes the user to the contents in _**Pages/Checkout.cshtml**_\n",
    "## Removing the slash makes the path relative to the current page."
   ]
  },
  {
   "cell_type": "markdown",
   "id": "ff0d3acb-f845-4746-af50-283e604af78b",
   "metadata": {},
   "source": [
    "### Optional information: For those of you already familiar with HTTP status codes, RedirectToPage() produces an HTTP status code of 302, and the browser knows where to browse to by using information in the response header."
   ]
  },
  {
   "cell_type": "markdown",
   "id": "463e4232-e958-4c13-a238-a0c82ae008e7",
   "metadata": {},
   "source": [
    "# _Page()_\n",
    "## Say that we only want to redirect in some cases. Otherwise we want to have the original response, which included the current page. \n",
    "## Now that our handler methods are returning _IActionResult_ values, we need a way to retuen the current page. \n",
    "## The answer is calling and returning the _Page()_ method\n",
    "## Returning _Page()_ will lead to the same behavior we saw when we had _void_ handler methods (Although we have now the flexibility to redirect as well)\n",
    "## These two methods have the same behavior:"
   ]
  },
  {
   "cell_type": "code",
   "execution_count": null,
   "id": "b5e2dff8-5f3a-4307-9ca3-17bf015f07b6",
   "metadata": {},
   "outputs": [],
   "source": [
    "public void OnGet()\n",
    "{}"
   ]
  },
  {
   "cell_type": "code",
   "execution_count": null,
   "id": "a9c0f516-c4cb-4bf2-a2e3-128081b1c999",
   "metadata": {},
   "outputs": [],
   "source": [
    "public IActionResult OnGet()\n",
    "{\n",
    "  return Page();\n",
    "}"
   ]
  },
  {
   "cell_type": "markdown",
   "id": "b6eac546-206d-4935-bb34-cc22a2425927",
   "metadata": {},
   "source": [
    "# Exercise"
   ]
  },
  {
   "cell_type": "code",
   "execution_count": null,
   "id": "9b39ef25-3909-4970-90cf-aaea616cf524",
   "metadata": {},
   "outputs": [],
   "source": [
    "public IActionResult OnGet(string? searchString)\n",
    "    { \n",
    "     \n",
    "\n",
    "      Animals = Zoo.Animals;\n",
    "\n",
    "      if (!string.IsNullOrEmpty(searchString))\n",
    "      {\n",
    "        // Check if searchString is \"all\" here\n",
    "            if(searchString == \"all\")\n",
    "            {\n",
    "                return RedirectToPage(\"/Index\");\n",
    "            }\n",
    "        \n",
    "        FoundAnimal = Animals.Where(a => a.CommonName == searchString).FirstOrDefault();\n",
    "      }\n",
    "\n",
    "      // Call Page() here\n",
    "       return Page();\n",
    "    }"
   ]
  },
  {
   "cell_type": "markdown",
   "id": "50f34a54-0f42-46ff-9176-b1a9c820d051",
   "metadata": {},
   "source": [
    "# _NotFound()_\n",
    "## An HTTP response includes more than just HTML, it also includes an HTTP status code. \n",
    "## A popular one is _404_ which means that a requested resource was not found. \n",
    "## For example, a user requests a profile page of a non-existent person.\n",
    "## We can generate that kind of response using _NotFound()_\n",
    "## In this example, a request with the username \"Machiavelli\" will lead to a 404 response:"
   ]
  },
  {
   "cell_type": "code",
   "execution_count": null,
   "id": "d5cfc7ac-d060-4dad-aac9-e67a27899644",
   "metadata": {},
   "outputs": [],
   "source": [
    "public IActionResult OnPost(string username)\n",
    "{\n",
    "  if (username == \"Machiavelli\")\n",
    "  {\n",
    "    return NotFound();\n",
    "  }\n",
    " \n",
    "  return Page();\n",
    "}"
   ]
  },
  {
   "cell_type": "markdown",
   "id": "4e52dc8b-0b7d-4f41-9754-de6729cb8038",
   "metadata": {},
   "source": [
    "# Async Redirects\n",
    "## Before we were redirecting users, we were using _void_ and _Task_ as our return types.\n",
    "* ## _void_ was for synchronous methods:"
   ]
  },
  {
   "cell_type": "code",
   "execution_count": null,
   "id": "c70d488c-dbce-42d1-9397-a5e3521f7d76",
   "metadata": {},
   "outputs": [],
   "source": [
    "public void OnGet()"
   ]
  },
  {
   "cell_type": "markdown",
   "id": "471690c2-87cc-48f2-8706-ad9bc066a50c",
   "metadata": {},
   "source": [
    "* # _Task_ was for asynchronous methods:"
   ]
  },
  {
   "cell_type": "code",
   "execution_count": null,
   "id": "1ccdbb70-6ebd-479f-8d16-ae4e30f7a2c8",
   "metadata": {},
   "outputs": [],
   "source": [
    "public async Task OnGetAsync()"
   ]
  },
  {
   "cell_type": "markdown",
   "id": "6b7e6a33-a7d1-4f6c-abdd-c69f8fa565e1",
   "metadata": {},
   "source": [
    "## With redirection, we will now return _IActionResult_ and _Task< IActionResult >_"
   ]
  },
  {
   "cell_type": "markdown",
   "id": "58d76ba6-fe5c-4dcf-8d33-6950ee464a11",
   "metadata": {},
   "source": [
    "* ## _IActionResult_ is for synchronous methods"
   ]
  },
  {
   "cell_type": "code",
   "execution_count": null,
   "id": "0cd0d62c-c627-4ba6-b209-f5f7873c6ba4",
   "metadata": {},
   "outputs": [],
   "source": [
    "public IActionResult OnGet()"
   ]
  },
  {
   "cell_type": "markdown",
   "id": "43456fa5-6a92-44ed-8c04-0a136f18adb6",
   "metadata": {},
   "source": [
    "* ## _Task< IActionResult >_ is for asynchronous methods:"
   ]
  },
  {
   "cell_type": "code",
   "execution_count": null,
   "id": "88607f1f-8b50-4600-98f4-f12b55df9534",
   "metadata": {},
   "outputs": [],
   "source": [
    "public async Task<IActionResult> OnGetAsync()"
   ]
  }
 ],
 "metadata": {
  "kernelspec": {
   "display_name": ".NET (C#)",
   "language": "C#",
   "name": ".net-csharp"
  },
  "language_info": {
   "file_extension": ".cs",
   "mimetype": "text/x-csharp",
   "name": "C#",
   "pygments_lexer": "csharp",
   "version": "8.0"
  }
 },
 "nbformat": 4,
 "nbformat_minor": 5
}
