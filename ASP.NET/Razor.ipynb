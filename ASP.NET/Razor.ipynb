{
 "cells": [
  {
   "cell_type": "markdown",
   "id": "10066622-ed85-4ad9-935c-ee2d14c246e8",
   "metadata": {},
   "source": [
    "# Razor Pages architecture\n",
    "## The razor page architecture work like this: Every page of our website is represented by two files:\n",
    "* ## _view page_ that display information\n",
    "* ## _page model_ which handles the accessing and processing of information"
   ]
  },
  {
   "cell_type": "markdown",
   "id": "22306195-d258-4519-a269-e0707028d83b",
   "metadata": {},
   "source": [
    "## Razor pages can also be used to make things other than wep pages, like APIs and microservices.\n",
    "## (Remember when Microsoft said ASP.NET is good for web apps AND services?) \n",
    "## In those cases we wouldn’t need a view page, we’d just use _page models_."
   ]
  }
 ],
 "metadata": {
  "kernelspec": {
   "display_name": ".NET (C#)",
   "language": "C#",
   "name": ".net-csharp"
  },
  "language_info": {
   "file_extension": ".cs",
   "mimetype": "text/x-csharp",
   "name": "C#",
   "pygments_lexer": "csharp",
   "version": "8.0"
  }
 },
 "nbformat": 4,
 "nbformat_minor": 5
}
