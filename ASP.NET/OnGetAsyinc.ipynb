{
 "cells": [
  {
   "cell_type": "markdown",
   "id": "6694adba-a228-4c27-933f-3e8aead0c51c",
   "metadata": {},
   "source": [
    "# OnGetAsync()\n",
    "## An asynchronous operation is one that allows the computer to \"move on\" to other tasks while waiting for the asynchronous operation to complete.\n",
    "## Asynchronous programming means that time-consuming operations don't have to bring everything else in our programs to a halt. "
   ]
  },
  {
   "cell_type": "markdown",
   "id": "df5b5694-ffdd-499c-b476-5c4d517a7108",
   "metadata": {},
   "source": [
    "# There are countless examples of asynchronicity in our eveyrday lives. \n",
    "## Cooking, for example, involves asynchronous operations such as a toaster toasting our bread or a rice cooker making our rice. While we wait on the completion of those operations, we’re free to do other tasks"
   ]
  },
  {
   "cell_type": "markdown",
   "id": "c59df751-44b2-49ba-86e6-2d562b83e1fc",
   "metadata": {},
   "source": [
    "## Similarly, web development makes use of asynchronous operations. \n",
    "## Operations like making a network request or querying a database are done asynchronously so that we can work on other tasks."
   ]
  },
  {
   "cell_type": "markdown",
   "id": "a1a6e498-e7dc-4d96-b36c-3ac9906d70d2",
   "metadata": {},
   "source": [
    "## C# enables this using _async_ , _await_ , and the _Task_ type."
   ]
  },
  {
   "cell_type": "code",
   "execution_count": null,
   "id": "029aa1c8-bbf1-42d5-a4ac-fdd94e9fd7d3",
   "metadata": {},
   "outputs": [],
   "source": [
    "if (System.IO.File.Exists(\"storage.txt\"))\n",
    "{\n",
    "  using (StreamReader reader = System.IO.File.OpenText(\"storage.txt\"))\n",
    "  {\n",
    "    string content = await reader.ReadtoEndAsync();\n",
    "  }\n",
    "}"
   ]
  },
  {
   "cell_type": "markdown",
   "id": "75c1c2f9-5f90-4348-bfa1-b157e77bc275",
   "metadata": {},
   "source": [
    "## For example, this code uses an asynchronous operation, _ReadLineAsync()_ to read from the file **storage.txt**.\n",
    "## We use the keyword _await_ to tell our app to \"wait\" for that operation to complete."
   ]
  },
  {
   "cell_type": "markdown",
   "id": "5d0b54de-ba43-4fd1-bc78-ecbf919fd44f",
   "metadata": {},
   "source": [
    "## To do this within a request handler like _OnGet()_ , we have to:\n",
    "* ## label it as an asynchronous method using _async_ , \n",
    "* ## switch the retuen type to _Task_, \n",
    "* ## and rename it _OnGetAsync()_ is optional but conventional."
   ]
  },
  {
   "cell_type": "code",
   "execution_count": null,
   "id": "8ef65d52-2032-4fb8-9f40-04e9fff9bbc8",
   "metadata": {},
   "outputs": [],
   "source": [
    "public async Task OnGetAsync()\n",
    "{\n",
    "  if (System.IO.File.Exists(\"storage.txt\"))\n",
    "  {\n",
    "    using (StreamReader reader = System.IO.File.OpenText(\"storage.txt\"))\n",
    "    {\n",
    "      string content = await reader.ReadtoEndAsync();\n",
    "    }\n",
    "  }\n",
    "}"
   ]
  },
  {
   "cell_type": "markdown",
   "id": "d2d43172-b3a8-4919-8ec1-84c61b28df97",
   "metadata": {},
   "source": [
    "## You cannot have both _OnGet()_ and _OnGetAsync()_ . Use one or the  other. "
   ]
  },
  {
   "cell_type": "markdown",
   "id": "7c8186b1-b865-4d4d-b947-970fa2f89979",
   "metadata": {},
   "source": [
    "## Our code used [_using_](https://docs.microsoft.com/en-us/dotnet/csharp/language-reference/keywords/using-statement)"
   ]
  },
  {
   "cell_type": "markdown",
   "id": "4194b19c-4cbb-4eda-a7fb-5aa524f687ec",
   "metadata": {},
   "source": [
    "# OnPostAsync()\n",
    "## Just as OnGet() has an asynchronous version, OnGetAsync(), OnPost() has its own asynchronous version named OnPostAsync()."
   ]
  }
 ],
 "metadata": {
  "kernelspec": {
   "display_name": ".NET (C#)",
   "language": "C#",
   "name": ".net-csharp"
  },
  "language_info": {
   "file_extension": ".cs",
   "mimetype": "text/x-csharp",
   "name": "C#",
   "pygments_lexer": "csharp",
   "version": "8.0"
  }
 },
 "nbformat": 4,
 "nbformat_minor": 5
}
