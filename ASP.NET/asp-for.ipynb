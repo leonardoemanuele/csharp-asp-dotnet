{
 "cells": [
  {
   "cell_type": "markdown",
   "id": "af2bbb4c-63ab-4413-bb45-c85f9799f191",
   "metadata": {},
   "source": [
    "# **asp-for**_\n",
    "## So far, we have built an HTML form in the view page.\n",
    "## When submitted it sends a URL query string to our app according to the _name_ attributes of the form\n",
    "## We captured the query values using model _binding_ "
   ]
  },
  {
   "cell_type": "markdown",
   "id": "041b90d1-d132-4b80-9120-7ec548372379",
   "metadata": {},
   "source": [
    "## We can write a form even easier using _TagHelpers_ \n",
    "## Instead of using the _name_ and _id_ attributes in each < input > element, we will use the _asp-for_ attribute:"
   ]
  },
  {
   "cell_type": "markdown",
   "id": "ee513ad1-7a10-4855-9d3e-5c581b7480ff",
   "metadata": {},
   "source": [
    "<input asp-for=\"Author\">"
   ]
  },
  {
   "cell_type": "markdown",
   "id": "078e4708-cccd-4343-9e7b-442e175b91f4",
   "metadata": {},
   "source": [
    "It will renders this HTML:"
   ]
  },
  {
   "cell_type": "code",
   "execution_count": null,
   "id": "ddf64f01-f9f1-4379-bd7d-b6122ebf5b41",
   "metadata": {},
   "outputs": [],
   "source": [
    "<input type=\"text\" name=\"Author\" id=\"Author\">"
   ]
  },
  {
   "cell_type": "markdown",
   "id": "d5f87af0-3fbe-4932-9f7e-497b70813aed",
   "metadata": {},
   "source": [
    "## The benefits will become clearer as we create more advance properties:\n",
    "* ## It saves you the hassle of writing HTML attributes.\n",
    "* ## Integrated Development Environments (IDEs) like VisualStudio, can check for errors before you run the code.\n",
    "* ## Changes to the property (in a model) are automatically carried into the view page\n",
    "* ## Advanced setting on properties, such as data validation, are converted into additional HTML attributes. "
   ]
  },
  {
   "cell_type": "markdown",
   "id": "db6228ba-bff9-47a8-8ff4-3e5cd1be7297",
   "metadata": {},
   "source": [
    "# asp-route-{value}\n",
    "## The Input Tag Helper, with _asp-for_ allows us to easily create a from that submits data with a _POST_ request.\n",
    "## Similarly, the Anchor Tag Helper with _asp-page_ and _asp-route-{value}_ attributes, allows us to create a < a > links that submit data with a GET request. \n",
    "* ## _**asp-page**_ - Sets an anchor tag's _href_ attribute value to a specific page\n",
    "* ## _**asp-route-{value}**_ - Adds route values to an _href_ The {value} placeholder is interpreted as a potential route parameter"
   ]
  },
  {
   "cell_type": "markdown",
   "id": "5dffea14-a40b-48a2-a7d0-4c0086619d7e",
   "metadata": {},
   "source": [
    "This markup in a view page…"
   ]
  },
  {
   "cell_type": "markdown",
   "id": "52b74349-5922-4d9c-95b7-16614538d47e",
   "metadata": {},
   "source": [
    "<a asp-page=\"./Authors\" asp-route-fullname=\"Roald Dahl\">Roald</a>"
   ]
  },
  {
   "cell_type": "markdown",
   "id": "a48bd25c-99e0-468e-8447-bf323e8aa197",
   "metadata": {},
   "source": [
    "…would render as this HTML…"
   ]
  },
  {
   "cell_type": "markdown",
   "id": "c2df3d31-8a8a-47fe-9f3d-a97d8e39c13b",
   "metadata": {},
   "source": [
    "<a href=\"./Authors?fullname=Roald+Dahl\">Roald</a>b"
   ]
  },
  {
   "cell_type": "markdown",
   "id": "4f330d53-e555-41f9-b4d7-47faf13181f0",
   "metadata": {},
   "source": [
    "## Like before we can capture the query values via method parameters:"
   ]
  },
  {
   "cell_type": "code",
   "execution_count": null,
   "id": "e9c5a7f9-8fd7-47cc-b54b-ab0547c60cf8",
   "metadata": {},
   "outputs": [],
   "source": [
    "public void OnGet(string fullname)\n",
    "{ }"
   ]
  },
  {
   "cell_type": "markdown",
   "id": "7e6a16e3-a7e0-4842-a6f1-e6d0b6346f04",
   "metadata": {},
   "source": [
    "## Technically we could also use model binding with attribute [BindProperty(SupportGet=true)] but we avoid that because allowing users to set values in GET requests can be dangerous. If _GET_ requests can set attributes, then it would be too easy to mistakenly edit our app's data by browsing to a URL. \n",
    "## We prefer to set attributes in _POST_ requests because they have built-in security from ASP.NET"
   ]
  },
  {
   "cell_type": "markdown",
   "id": "5084447e-c902-44fc-91c2-70c3fe78d874",
   "metadata": {},
   "source": [
    "## RECAP\n",
    "* ## Anchor Tag Helpers generate _GET_ requests. THey use _asp-page_ and _asp-route-{value}_"
   ]
  },
  {
   "cell_type": "markdown",
   "id": "75815741-c5b6-49e4-8e85-633681d01dd7",
   "metadata": {},
   "source": [
    "<a asp-page=\"./Authors\" asp-route-fullname=\"Roald Dahl\">Roald</a>"
   ]
  },
  {
   "cell_type": "markdown",
   "id": "38c62ca0-1f4a-445a-a342-8c7d18de666a",
   "metadata": {},
   "source": [
    "* ## Input Tag Helpers (along with form) generate _POST_ requests. They use _asp-for_:"
   ]
  },
  {
   "cell_type": "markdown",
   "id": "2ff53d26-8f21-4970-89f4-3e0832d46385",
   "metadata": {},
   "source": [
    "<input class=\"form-control\" asp-for=\"Title\" placeholder=\"Title\">"
   ]
  },
  {
   "cell_type": "markdown",
   "id": "b4a241d9-cfa9-4f7a-a851-beba41669dae",
   "metadata": {},
   "source": [
    "# Excercise \n",
    "## asp-for-index using a for loop iterate through a List _Archive_ initialized inside Archive.cshtml.cs"
   ]
  },
  {
   "cell_type": "code",
   "execution_count": null,
   "id": "00c59691-53ad-492a-858e-fac7f4487145",
   "metadata": {},
   "outputs": [],
   "source": [
    "using System;\n",
    "using System.Collections.Generic;\n",
    "using System.Linq;\n",
    "using Microsoft.AspNetCore.Mvc.RazorPages;\n",
    "using Blog.Models;\n",
    "\n",
    "namespace Blog.Pages\n",
    "{\n",
    "  public class ArchiveModel : PageModel\n",
    "  {\n",
    "    public readonly List<BlogPost> Archive = new List<BlogPost>\n",
    "    {\n",
    "      new BlogPost(\"One Pot Thai-Style Rice\", new DateTime(2020, 1, 24), \"This is a famous dish popularized in Thailand. Although the recipe varies from cook to cook and region to region, this is a good attempt at recreating what I ate from Thai-owned hole-in-the-wall restaurants in Okinawa, Japan. Key to the flavor are the sugar levels, unsalted peanuts, peanut oil, and either oyster or fish sauce.\"),\n",
    "      new BlogPost(\"Balsamic Glazed Salmon Fillets\", new DateTime(2020, 1, 20), \"A glaze featuring balsamic vinegar, garlic, honey, white wine and Dijon mustard makes baked salmon fillets extraordinary.\"),\n",
    "      new BlogPost(\"Spicy Garlic Lime Chicken\", new DateTime(2019, 9, 4), \"A delightful chicken dish with a little spicy kick. Serve with rice and your favorite vegetable.\"),\n",
    "      new BlogPost(\"Mushroom Pork Chops\", new DateTime(2019, 6, 14), \"Quick and easy, but very delicious. One of my family's favorites served over brown rice.\"),\n",
    "    };\n",
    "\n",
    "    public BlogPost Displayed { get; set; }\n",
    "\n",
    "    public void OnGet(int index)\n",
    "    {\n",
    "      if (index >= Archive.Count || index < 0)\n",
    "      {\n",
    "        Displayed = new BlogPost(\"n/a\", new DateTime(0001, 01, 01), \"n/a\");\n",
    "      }\n",
    "      else\n",
    "      {\n",
    "        Displayed = Archive[index];\n",
    "      }\n",
    "    }\n",
    "  }\n",
    "}"
   ]
  },
  {
   "cell_type": "markdown",
   "id": "e792487f-47b5-467b-97f4-6c9d6ad048a0",
   "metadata": {},
   "source": [
    "@page\n",
    "@model ArchiveModel\n",
    "@{\n",
    "}\n",
    "\n",
    "<div class=\"jumbotron jumbotron-fluid\" id=\"archive-jumbotron\">\n",
    "  <div id=\"jumbotron-main-text\">\n",
    "    <h1>Archive</h1>\n",
    "    <p>The best past recipes!</p>\n",
    "  </div>\n",
    "</div>\n",
    "\n",
    "<div class=\"row\">\n",
    "  <div class=\"col\">\n",
    "    <!-- Page model properties displayed here -->\n",
    "    <div class=\"blog-post\">\n",
    "      <h3 class=\"blog-post-title\">@Model.Displayed.Title</h3>\n",
    "      <p class=\"blog-post-meta\">Posted on @Model.Displayed.Date.ToShortDateString()</p>\n",
    "      <p>@Model.Displayed.Body</p>\n",
    "    </div>\n",
    "  </div>\n",
    "  <div class=\"col\">\n",
    "    <h1>Older posts</h1>\n",
    "    <hr>\n",
    "    @for (int i = 0; i < Model.Archive.Count; i++)\n",
    "    {\n",
    "       <div>\n",
    "        <h3>\n",
    "          <a asp-page=\"/Archive\" asp-route-index=\"@i\">@Model.Archive[i].Title</a>\n",
    "        </h3>\n",
    "        <p>Posted on @Model.Archive[i].Date.ToShortDateString()</p>\n",
    "      </div>\n",
    "    }\n",
    "  </div>\n",
    "</div>"
   ]
  }
 ],
 "metadata": {
  "kernelspec": {
   "display_name": ".NET (C#)",
   "language": "C#",
   "name": ".net-csharp"
  },
  "language_info": {
   "file_extension": ".cs",
   "mimetype": "text/x-csharp",
   "name": "C#",
   "pygments_lexer": "csharp",
   "version": "8.0"
  }
 },
 "nbformat": 4,
 "nbformat_minor": 5
}
