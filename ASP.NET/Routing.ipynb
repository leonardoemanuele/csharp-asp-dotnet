{
 "cells": [
  {
   "cell_type": "markdown",
   "id": "9107dc77-5b71-4a4f-8f6f-79962f79b42c",
   "metadata": {},
   "source": [
    "# Routing\n",
    "## Imagine that you were building an exercise app to track your activity. You could store each of your day's steps and workouts in the app and you could view both your total activity for the week and individual activity for each day."
   ]
  },
  {
   "cell_type": "markdown",
   "id": "c65b9580-0870-45a8-9c64-01a120d4f896",
   "metadata": {},
   "source": [
    "## With the page-based framework of Razor Pages, \n",
    "* ## How would you duplicate the individual-day view?\n",
    "* ## How could you customize your URLs to match each day?"
   ]
  },
  {
   "cell_type": "markdown",
   "id": "52f99beb-67b5-4bb9-8094-48f393629cf5",
   "metadata": {},
   "source": [
    "## These questions can be solved with _routing_. Instead of URLs like _/Activity_ you can rename it to _Days_ and make variable route parameters like _/Days/1_ , _/Days/2_, etc. "
   ]
  },
  {
   "cell_type": "markdown",
   "id": "e71f613e-36b9-487c-895b-a06e22a508dc",
   "metadata": {},
   "source": [
    "## In this lesson we are doing the following:\n",
    "* ## Define custom URL segments\n",
    "* ## Define route templates\n",
    "* ## Add Constraints on route templates\n",
    "* ## Understand how Tag Helpers adapt to custom routing"
   ]
  },
  {
   "cell_type": "markdown",
   "id": "0cc7e581-858f-4356-86ef-56ebc1b00622",
   "metadata": {},
   "source": [
    "# Custom URL\n",
    "## By default, each page's URL is defined by its filename:\n",
    "* ## **Index.cshtml** is at _localhost:8000_\n",
    "* ## **Privacy.cshtml** ia at _localhost:8000/Privacy_\n",
    "## What if we want to override those defaults?"
   ]
  },
  {
   "cell_type": "markdown",
   "id": "e9ffbafd-077c-49d1-9d76-f93aa05d3d35",
   "metadata": {},
   "source": [
    "## We can add and/or change URL segements by adding a string after @page directive. \n",
    "## For example, if we used this line at the top of _**Privacy.cshtml**_..."
   ]
  },
  {
   "cell_type": "code",
   "execution_count": null,
   "id": "cc92a5dd-89e9-4c80-9e19-cadb17c55d11",
   "metadata": {},
   "outputs": [],
   "source": [
    "@page \"/Pirates\""
   ]
  },
  {
   "cell_type": "markdown",
   "id": "d4c16c32-b226-4ebb-839a-46c27b74f3de",
   "metadata": {},
   "source": [
    "## ...Then _**Privacy.cshtml**_ would now be available at \n",
    "* ## _localhost:8000/Pirates_ "
   ]
  },
  {
   "cell_type": "markdown",
   "id": "4d5c067b-078d-4b0f-b7de-b486304ef43c",
   "metadata": {},
   "source": [
    "## If we remove the forward slash _/_ then we append a segment. \n",
    "## Using this line..."
   ]
  },
  {
   "cell_type": "code",
   "execution_count": null,
   "id": "eb6b5f7a-1f94-4ec3-95b9-b0a35d4a7ce8",
   "metadata": {},
   "outputs": [],
   "source": [
    "@page \"Pirates\""
   ]
  },
  {
   "cell_type": "markdown",
   "id": "4c2b476f-3ed2-499d-b04c-29d29fa973f5",
   "metadata": {},
   "source": [
    "## ... makes _**Privacy.cshtml**_ available at \n",
    "* ## _localhost:8000/Privacy/Pirates_"
   ]
  },
  {
   "cell_type": "markdown",
   "id": "b494d327-94b2-48a2-ab6c-822a60565bbd",
   "metadata": {},
   "source": [
    "## Customs URLs are useful when you have a page deep in your folder hierarchy and you want a shorter URL. \n",
    "## For example, if we used this line at the top of Movies/Horror/**_Create.cshtml_**"
   ]
  },
  {
   "cell_type": "code",
   "execution_count": null,
   "id": "2615e73e-245a-4d06-976b-c81dc3a47823",
   "metadata": {},
   "outputs": [],
   "source": [
    "@page \"/AddScaries\""
   ]
  },
  {
   "cell_type": "markdown",
   "id": "1ca434aa-9f06-445d-8499-882c9522a609",
   "metadata": {},
   "source": [
    "## then that file would be available at \n",
    "## _localhost:8000/AddScaries_ instead of _localhost:8000/Movies/Horror/Creates_"
   ]
  },
  {
   "cell_type": "markdown",
   "id": "135051ac-214a-49bb-97ff-79efdd202a39",
   "metadata": {},
   "source": [
    "# Route Templates\n",
    "## So far, we've seen two ways to pass data from the browser to a page model. \n",
    "## Once a form is submitted we can:\n",
    "* ## 1. Capture the data using method parameters, like _OnPost(string title)_\n",
    "* ## 2. Bind the data to properties using _[BindProperty]_"
   ]
  },
  {
   "cell_type": "markdown",
   "id": "895e101b-43d3-44cb-9772-199d9903f826",
   "metadata": {},
   "source": [
    "## In both cases the POST request is made to a URL with a query string, like:"
   ]
  },
  {
   "cell_type": "code",
   "execution_count": null,
   "id": "35755fbb-b045-4e69-9ab0-89ba8f4703bc",
   "metadata": {},
   "outputs": [],
   "source": [
    "localhost:8000/Movies?title=Inception"
   ]
  },
  {
   "cell_type": "markdown",
   "id": "61d4dfe7-0d3e-4951-adc9-741e41bfd8b9",
   "metadata": {},
   "source": [
    "## We can reform the URL so that the data is provided is URL segments instead, like:"
   ]
  },
  {
   "cell_type": "code",
   "execution_count": null,
   "id": "43244d32-c0ae-4b70-8d01-cf7237f2a4dc",
   "metadata": {},
   "outputs": [],
   "source": [
    "localhost:8000/Movies/Inception"
   ]
  },
  {
   "cell_type": "markdown",
   "id": "268f7f1b-f79f-47f5-a020-af26d1921054",
   "metadata": {},
   "source": [
    "## This format makes the URL more readable and more search-engine friendly."
   ]
  },
  {
   "cell_type": "code",
   "execution_count": null,
   "id": "4f3b0c25-7635-44d6-a241-28b1aab789ea",
   "metadata": {},
   "outputs": [],
   "source": [
    "localhost:8000/Movies/{title}"
   ]
  },
  {
   "cell_type": "markdown",
   "id": "a33a6c1e-e2db-40a5-99e0-3c13a6330b08",
   "metadata": {},
   "source": [
    "## Inside a _**.cshtml**_ file, we can specify this the @page directive, using a kind of variable, known as a route value or route parameter, wrapped in _curly braces_ {}\n",
    "## Assuming the page lives in _Movies.cshtml_, then the first line of the file would be:"
   ]
  },
  {
   "cell_type": "code",
   "execution_count": null,
   "id": "b6cdbdb0-5f9b-422e-ae5f-96baad3a2887",
   "metadata": {},
   "outputs": [],
   "source": [
    "@page \"{title}\""
   ]
  },
  {
   "cell_type": "markdown",
   "id": "b4f70f4e-7988-4fba-bc8e-913a991e7512",
   "metadata": {},
   "source": [
    "## Make sure to use double quotes \"\" and curly braces"
   ]
  },
  {
   "cell_type": "markdown",
   "id": "71cb3383-3cee-4217-a897-14a77aa14354",
   "metadata": {},
   "source": [
    "## The way to capture these values is no different than before."
   ]
  },
  {
   "cell_type": "markdown",
   "id": "3442a565-c51a-4577-b0c0-a404154b6e18",
   "metadata": {},
   "source": [
    "Capture with method parameters:"
   ]
  },
  {
   "cell_type": "code",
   "execution_count": null,
   "id": "accd78a3-6546-46af-8afa-18782233ffe5",
   "metadata": {},
   "outputs": [],
   "source": [
    "OnPost(string title)"
   ]
  },
  {
   "cell_type": "markdown",
   "id": "fc95ef8d-3b6e-4307-b9f5-b4a8f2d0bcc1",
   "metadata": {},
   "source": [
    "Or with model-binding:"
   ]
  },
  {
   "cell_type": "code",
   "execution_count": null,
   "id": "f1b60590-8cce-4b00-859b-38f9996b1a5f",
   "metadata": {},
   "outputs": [],
   "source": [
    "[BindProperty]\n",
    "string Title { get; set; }"
   ]
  },
  {
   "cell_type": "markdown",
   "id": "eb6b96d2-6543-4b6f-89f2-49034af68a25",
   "metadata": {},
   "source": [
    "# Add Optional Route Templates\n",
    "## We can make route values optional with a question mark _?_\n",
    "## For example, this defines an optional _title_ template:"
   ]
  },
  {
   "cell_type": "code",
   "execution_count": null,
   "id": "4fcd2634-2406-4a9f-afe6-5aaafb2ada52",
   "metadata": {},
   "outputs": [],
   "source": [
    "@page \"{title?}\""
   ]
  },
  {
   "cell_type": "markdown",
   "id": "0a31d872-d399-4239-a861-e74b1485d062",
   "metadata": {},
   "source": [
    "## In order to capture that in a method parameter, you will need to also use the question mark here:"
   ]
  },
  {
   "cell_type": "code",
   "execution_count": null,
   "id": "c827291d-0a39-4afb-a28d-a0b46e9f0f48",
   "metadata": {},
   "outputs": [],
   "source": [
    "public void OnGet(string? title) { }"
   ]
  },
  {
   "cell_type": "markdown",
   "id": "fbb7cbbb-ca29-462e-868b-6ab99f7cd9ed",
   "metadata": {},
   "source": [
    "## When combining with an _if - else_ statement, your handler method can change behavior based on whether the value was provided"
   ]
  },
  {
   "cell_type": "code",
   "execution_count": null,
   "id": "a6ecae46-cece-4cc6-9e5d-5ff778c1dd65",
   "metadata": {},
   "outputs": [],
   "source": [
    "public void OnGet(string? title)\n",
    "{\n",
    "  if (String.IsNullOrEmpty(title))\n",
    "  {\n",
    "    IsGeneralDisplay = true;\n",
    "  }\n",
    "  else\n",
    "  {\n",
    "    Title = title.Value;\n",
    "    IsGeneralDisplay = false;\n",
    "  }\n",
    "}"
   ]
  },
  {
   "cell_type": "markdown",
   "id": "fdb3ef7c-c04f-4629-8666-d9e1fc166df4",
   "metadata": {},
   "source": [
    "## In the _if_ condition, we use _String.IsNullOrEmpty()_ to check value of _title_.\n",
    "## It returns _true_ if the title is not provided in the URL or it is _empty_ \n",
    "## For non-string types we use the _HasValue_ propery. \n",
    "## For example:"
   ]
  },
  {
   "cell_type": "code",
   "execution_count": null,
   "id": "69c7007e-a8be-4e88-892c-d164149aedf7",
   "metadata": {},
   "outputs": [],
   "source": [
    "public void OnPost(bool? b)\n",
    "{\n",
    "  if (b.HasValue)\n",
    "  {\n",
    "    // Access b.Value\n",
    "  }\n",
    "  else\n",
    "  {\n",
    "    // b is null\n",
    "  }\n",
    "}"
   ]
  },
  {
   "cell_type": "markdown",
   "id": "d1bd3cad-e9d0-4125-a1df-77a44bd3fa38",
   "metadata": {},
   "source": [
    "## You can read more about [nullable types](https://docs.microsoft.com/en-us/dotnet/csharp/language-reference/builtin-types/nullable-value-types) in the Microsoft documentation."
   ]
  },
  {
   "cell_type": "markdown",
   "id": "6003834e-3781-4b97-9b50-c98eda18d5f6",
   "metadata": {},
   "source": [
    "# Exercise"
   ]
  },
  {
   "cell_type": "markdown",
   "id": "4791092a-3baa-4ff1-82c1-aac58c358738",
   "metadata": {},
   "source": [
    "Activity.cshtml"
   ]
  },
  {
   "cell_type": "code",
   "execution_count": null,
   "id": "8cf5d4ad-2c55-4966-87ae-8c45baaa285b",
   "metadata": {},
   "outputs": [],
   "source": [
    "@page \"/Days/{day?}\"\n",
    "@model ActivityModel\n",
    "\n",
    "<div class=\"row d-flex align-items-center justify-content-between mx-2\" id=\"links-row\">\n",
    "  <div class=\"col-1\">\n",
    "  </div>\n",
    "\n",
    "  <div class=\"col\">\n",
    "    @if (Model.IsWeeklyDisplay)\n",
    "    {\n",
    "      <a id=\"weekly-total-link\" class=\"active-day day-week-links\" asp-page=\"/Activity\" asp-route-day=\"\">Weekly Total</a>\n",
    "    }\n",
    "    else\n",
    "    {\n",
    "      <a id=\"weekly-total-link\" class=\"day-week-links\" asp-page=\"/Activity\" asp-route-day=\"\">Weekly Total</a>\n",
    "    }\n",
    "  </div>\n",
    "\n",
    "  @for (int i = 0; i < Model.Days.Count; i++)\n",
    "  {\n",
    "    <div class=\"col\">\n",
    "      @if (!Model.IsWeeklyDisplay && i == Model.CurrentDay)\n",
    "      {\n",
    "        <a class=\"active-day day-week-links\" asp-page=\"/Activity\" asp-route-day=@i>Day @i</a>\n",
    "      }\n",
    "      else\n",
    "      {\n",
    "        <a class=\"day-week-links\" asp-page=\"/Activity\" asp-route-day=@i>Day @i</a>\n",
    "      }\n",
    "    </div>\n",
    "  }\n",
    "\n",
    "  <div class=\"col-1\">\n",
    "  </div>\n",
    "</div>\n",
    "<div class=\"row\">\n",
    "  <div class=\"col circle-col\">\n",
    "    @{ \n",
    "      var stepsData = new ProgressCirclePartialModel\n",
    "      {\n",
    "        BackgroundStroke = \"#D9EFF6\",\n",
    "        ForegroundStroke = \"#3EAED5\",\n",
    "        PercentProgress = @Model.PercentProgressSteps,\n",
    "        DisplayNumber = @Model.DisplaySteps,\n",
    "        Unit = \"Steps\",\n",
    "        IconUrl = \"https://content.codecademy.com/courses/asp-dot-net/shoe-icon.png\"\n",
    "      };\n",
    "    }\n",
    "    <partial name=\"_ProgressCirclePartial\" model=@stepsData />\n",
    "  </div>\n",
    "</div>\n",
    "\n",
    "<div class=\"row\">\n",
    "  <div class=\"col circle-col\">\n",
    "    @{ \n",
    "      var exerciseData = new ProgressCirclePartialModel\n",
    "      {\n",
    "        BackgroundStroke = \"#FBD7E5\",\n",
    "        ForegroundStroke = \"#DA387D\",\n",
    "        PercentProgress = @Model.PercentProgressMinutesExercise,\n",
    "        DisplayNumber = @Model.DisplayMinutesExercise,\n",
    "        Unit = \"Mins of Exercise\",\n",
    "        IconUrl = \"https://content.codecademy.com/courses/asp-dot-net/weight-icon.png\"\n",
    "      };\n",
    "    }\n",
    "    <partial name=\"_ProgressCirclePartial\" model=@exerciseData />\n",
    "  </div>\n",
    "</div>"
   ]
  },
  {
   "cell_type": "markdown",
   "id": "4f0da9a5-fad3-4093-8f83-094a926328e2",
   "metadata": {},
   "source": [
    "Activity.cshtml.cs"
   ]
  },
  {
   "cell_type": "code",
   "execution_count": null,
   "id": "2432c0ae-c716-4d31-889d-9f410f107e4d",
   "metadata": {},
   "outputs": [],
   "source": [
    "using System;\n",
    "using System.Collections.Generic;\n",
    "using System.Linq;\n",
    "using System.Threading.Tasks;\n",
    "using Microsoft.AspNetCore.Mvc;\n",
    "using Microsoft.AspNetCore.Mvc.RazorPages;\n",
    "\n",
    "namespace ActivityTracker.Pages\n",
    "{\n",
    "  public class ActivityModel : PageModel\n",
    "  {\n",
    "    private int idealSteps = 10000;\n",
    "    private int idealMinutesExercise = 30;\n",
    "\n",
    "    public List<Day> Days = new List<Day>\n",
    "    {\n",
    "      new Day(3000, 20),\n",
    "      new Day(6000, 12),\n",
    "      new Day(10000, 40),\n",
    "      new Day(7000, 25)\n",
    "    };\n",
    "    public int CurrentDay { get; set; }\n",
    "    public int DisplaySteps { get; set; }\n",
    "    public int DisplayMinutesExercise { get; set; }\n",
    "    public double PercentProgressSteps { get; set; }\n",
    "    public double PercentProgressMinutesExercise { get; set; }\n",
    "    public bool IsWeeklyDisplay { get; set; }\n",
    "\n",
    "    public void OnGet(int? day)\n",
    "    {\n",
    "      if (day.HasValue)\n",
    "      {\n",
    "        CurrentDay = day.Value; \n",
    "        DisplaySteps = Days[CurrentDay].Steps;\n",
    "        DisplayMinutesExercise = Days[CurrentDay].MinutesExercise;\n",
    "        PercentProgressSteps = PercentProgress(DisplaySteps, idealSteps);\n",
    "        PercentProgressMinutesExercise = PercentProgress(DisplayMinutesExercise, idealMinutesExercise);\n",
    "      }\n",
    "      else\n",
    "      {\n",
    "        CurrentDay = 0;\n",
    "        IsWeeklyDisplay = true;\n",
    "        DisplaySteps = Days.Sum(d => d.Steps);\n",
    "        DisplayMinutesExercise = Days.Sum(d => d.MinutesExercise);\n",
    "        PercentProgressSteps = PercentProgress(DisplaySteps, idealSteps * Days.Count);\n",
    "        PercentProgressMinutesExercise = PercentProgress(DisplayMinutesExercise, idealMinutesExercise * Days.Count);\n",
    "      }\n",
    "    }\n",
    "\n",
    "    private static double PercentProgress(double actual, double expected)\n",
    "    {\n",
    "      return Math.Clamp(actual / expected, 0, 1);\n",
    "    }\n",
    "  }\n",
    "\n",
    "  public class Day\n",
    "  {\n",
    "    public int Steps { get; set; }\n",
    "    public int MinutesExercise { get; set; }\n",
    "\n",
    "    public Day(int steps = 0, int minutes = 0)\n",
    "    {\n",
    "      Steps = steps;\n",
    "      MinutesExercise = minutes;\n",
    "    }\n",
    "  }\n",
    "}"
   ]
  },
  {
   "cell_type": "markdown",
   "id": "b8b64c28-b06f-4d65-91fd-4757214f11e7",
   "metadata": {},
   "source": [
    "# Add Constrained Route Templates\n",
    "## Like everywhere else in C#, strict type constraints help us avoid errors.  "
   ]
  },
  {
   "cell_type": "markdown",
   "id": "659d7dab-48b3-4da5-8e5f-88b4e415490c",
   "metadata": {},
   "source": [
    "## Imagine if someone sent a POST request to this URL "
   ]
  },
  {
   "cell_type": "code",
   "execution_count": null,
   "id": "53f86c0f-ce56-4efb-b2f1-072a23d9f35d",
   "metadata": {},
   "outputs": [],
   "source": [
    "localhost:8000/veggies/YES/fruits/NO/grains/IDUNNO/protein/SORTA/dairy/NEVER"
   ]
  },
  {
   "cell_type": "markdown",
   "id": "4d5d93c2-39fa-4487-9203-13131b9b0be8",
   "metadata": {},
   "source": [
    "## It would break our application, which expects integers for each of those route values. \n",
    "## Within our _@page_ directive we can specify that constraint like the below, where _int_ stands for \"integer\" we’ll show an abbreviated version here): "
   ]
  },
  {
   "cell_type": "code",
   "execution_count": null,
   "id": "b648d7fd-fca0-47e4-8bf0-a4cbea081a78",
   "metadata": {},
   "outputs": [],
   "source": [
    "@page \"/veggies/{veggies:int}...\""
   ]
  },
  {
   "cell_type": "markdown",
   "id": "d45cbb27-d266-4b28-8ce2-81bb048de0a4",
   "metadata": {},
   "source": [
    "## The general format is:"
   ]
  },
  {
   "cell_type": "code",
   "execution_count": null,
   "id": "437ae597-1212-43c5-9fce-768769c3438a",
   "metadata": {},
   "outputs": [],
   "source": [
    "@page \"{routevalue:constraint}\""
   ]
  },
  {
   "cell_type": "markdown",
   "id": "0cfefa20-1d39-4c56-8d09-ad5c5c415f43",
   "metadata": {},
   "source": [
    "## If you want the route value to remain optional, use the question mark after the contraint, like:"
   ]
  },
  {
   "cell_type": "code",
   "execution_count": null,
   "id": "01b51c54-fb19-4db1-bba4-8cbe31833455",
   "metadata": {},
   "outputs": [],
   "source": [
    "@page \"/veggies/{veggies:int?}...\""
   ]
  },
  {
   "cell_type": "markdown",
   "id": "d711ff75-7bb5-465b-86da-96f5d3a7f1de",
   "metadata": {},
   "source": [
    "## There are a lot of contraints out there, but here are a few to get started:\n",
    "* ## _int_ - value must be an integer\n",
    "* ## _alpha_ - value must consist of one or more alphabetical characters (a-z, case sensitive)\n",
    "* ## _bool_ - value must be true or false (case sensitive)\n",
    "## A longer (but not exhaustive) [list of constraints](https://docs.microsoft.com/en-us/aspnet/core/fundamentals/routing?view=aspnetcore-6.0#route-constraint-reference) is available in the Microsoft documentation."
   ]
  },
  {
   "cell_type": "markdown",
   "id": "8e334f8c-a388-4d85-9a04-92bf2278e603",
   "metadata": {},
   "source": [
    "# Exercise"
   ]
  },
  {
   "cell_type": "code",
   "execution_count": null,
   "id": "59f40cc8-9370-4c3d-b01c-cd8ccdc621c3",
   "metadata": {},
   "outputs": [],
   "source": [
    "@page \"/Days/{day:int?}\"\n",
    "@model ActivityModel"
   ]
  },
  {
   "cell_type": "markdown",
   "id": "4ad86f87-a0e1-422f-a4ff-cb321b05c3e9",
   "metadata": {},
   "source": [
    "# asp-route-{value} revisited\n",
    "## Previously we saw how the resulting asp-route-{value} appended a query string to the URL:"
   ]
  },
  {
   "cell_type": "code",
   "execution_count": null,
   "id": "3e7095f1-458f-4e46-a96e-2364804d2ab6",
   "metadata": {},
   "outputs": [],
   "source": [
    "<a asp-page=\"./Blogpost\" asp-route-id=\"4\">ID 4</a>"
   ]
  },
  {
   "cell_type": "markdown",
   "id": "daa79ac0-109e-4d42-81a1-ab100238faa1",
   "metadata": {},
   "source": [
    "## What happens if our URL template accepts URL segements instead of a query string? It would be defined like this in _**Blogspot.cshtml**_"
   ]
  },
  {
   "cell_type": "code",
   "execution_count": null,
   "id": "63f4c5d0-c46f-48f3-88c1-2fb2adc8aecc",
   "metadata": {},
   "outputs": [],
   "source": [
    "@page {id}"
   ]
  },
  {
   "cell_type": "markdown",
   "id": "03f90002-712a-4d29-b767-542939f23777",
   "metadata": {},
   "source": [
    "# Exercise"
   ]
  },
  {
   "cell_type": "code",
   "execution_count": null,
   "id": "6b6f9407-a822-49c9-a362-edd001ade7ae",
   "metadata": {},
   "outputs": [],
   "source": [
    "@page \"/Days/{day?}\"\n",
    "@model ActivityModel\n",
    "\n",
    "<div class=\"row d-flex align-items-center justify-content-between mx-2\" id=\"links-row\">\n",
    "  <div class=\"col-1\">\n",
    "  </div>\n",
    "\n",
    "  <div class=\"col\">\n",
    "    @if (Model.IsWeeklyDisplay)\n",
    "    {\n",
    "      <a id=\"weekly-total-link\" class=\"active-day day-week-links\" asp-page=\"/Activity\" asp-route-day=\"\">Weekly Total</a>\n",
    "    }\n",
    "    else\n",
    "    {\n",
    "      <a id=\"weekly-total-link\" class=\"day-week-links\" asp-page=\"/Activity\" asp-route-day=\"\">Weekly Total</a>\n",
    "    }\n",
    "  </div>\n",
    "\n",
    "  @for (int i = 0; i < Model.Days.Count; i++)\n",
    "  {\n",
    "    <div class=\"col\">\n",
    "      @if (!Model.IsWeeklyDisplay && i == Model.CurrentDay)\n",
    "      {\n",
    "        <a class=\"active-day day-week-links\" asp-page=\"/Activity\" asp-route-day=@i>Day @i</a>\n",
    "      }\n",
    "      else\n",
    "      {\n",
    "        <a class=\"day-week-links\" asp-page=\"/Activity\" asp-route-day=@i>Day @i</a>\n",
    "      }\n",
    "    </div>\n",
    "  }\n",
    "\n",
    "  <div class=\"col-1\">\n",
    "  </div>\n",
    "</div>\n",
    "<div class=\"row\">\n",
    "  <div class=\"col circle-col\">\n",
    "    @{ \n",
    "      var stepsData = new ProgressCirclePartialModel\n",
    "      {\n",
    "        BackgroundStroke = \"#D9EFF6\",\n",
    "        ForegroundStroke = \"#3EAED5\",\n",
    "        PercentProgress = @Model.PercentProgressSteps,\n",
    "        DisplayNumber = @Model.DisplaySteps,\n",
    "        Unit = \"Steps\",\n",
    "        IconUrl = \"https://content.codecademy.com/courses/asp-dot-net/shoe-icon.png\"\n",
    "      };\n",
    "    }\n",
    "    <partial name=\"_ProgressCirclePartial\" model=@stepsData />\n",
    "  </div>\n",
    "</div>\n",
    "\n",
    "<div class=\"row\">\n",
    "  <div class=\"col circle-col\">\n",
    "    @{ \n",
    "      var exerciseData = new ProgressCirclePartialModel\n",
    "      {\n",
    "        BackgroundStroke = \"#FBD7E5\",\n",
    "        ForegroundStroke = \"#DA387D\",\n",
    "        PercentProgress = @Model.PercentProgressMinutesExercise,\n",
    "        DisplayNumber = @Model.DisplayMinutesExercise,\n",
    "        Unit = \"Mins of Exercise\",\n",
    "        IconUrl = \"https://content.codecademy.com/courses/asp-dot-net/weight-icon.png\"\n",
    "      };\n",
    "    }\n",
    "    <partial name=\"_ProgressCirclePartial\" model=@exerciseData />\n",
    "  </div>\n",
    "</div>"
   ]
  },
  {
   "cell_type": "markdown",
   "id": "27e91586-0e2d-4a92-aee5-603bbed7a7b1",
   "metadata": {},
   "source": [
    "# Review"
   ]
  },
  {
   "cell_type": "markdown",
   "id": "09189535-cbee-4502-8af3-ed0485acd873",
   "metadata": {},
   "source": [
    "<!-- No URL segments -->\n",
    "@page\n",
    "<!-- Edit the default route -->\n",
    "@page \"/Days\"\n",
    "<!-- Add a route template -->\n",
    "@page \"/Days/{day}\"\n",
    "<!-- Constrain route value -->\n",
    "@page \"/Days/{day:int}\"\n",
    "<!-- Make route value optional -->\n",
    "@page \"/Days/{day:int?}\""
   ]
  },
  {
   "cell_type": "markdown",
   "id": "45334511-82a6-493e-8b8b-3e0902a4b8ae",
   "metadata": {},
   "source": [
    "## Instead of ugly URLs like: "
   ]
  },
  {
   "cell_type": "code",
   "execution_count": null,
   "id": "ac4485f1-62ad-45e5-b594-2d22e4e2a0ce",
   "metadata": {},
   "outputs": [],
   "source": [
    "localhost:8000/Movies/Horror/Create?title=Spooky+Ghosts&length=120"
   ]
  },
  {
   "cell_type": "markdown",
   "id": "f0591b85-6e19-4394-89cc-72b5e8da6ed0",
   "metadata": {},
   "source": [
    "## We can now re-define them like:"
   ]
  },
  {
   "cell_type": "code",
   "execution_count": null,
   "id": "a21260cd-6a87-4bad-a910-5e1ee20e8e29",
   "metadata": {},
   "outputs": [],
   "source": [
    "localhost:8000/AddScaries/Spooky+Ghosts/120"
   ]
  },
  {
   "cell_type": "markdown",
   "id": "6ca61fdf-a668-42fb-a2eb-fc5b1a24e6af",
   "metadata": {},
   "source": [
    "## In this lesson we have learned:\n",
    "* ## Typing a string after the _@page_ directive will edit the pages's default route\n",
    "* ## Typing parameters within curly braces after the _@page_ directivewill define a route template\n",
    "* ## Route values can be made optional with question mark _?_\n",
    "* ## Route values can be constrained using the colon _:_ syntax and keyword constraint\n",
    "* ## The asp-rooute-{value} attribute can add additional information to an < a > elements"
   ]
  }
 ],
 "metadata": {
  "kernelspec": {
   "display_name": ".NET (C#)",
   "language": "C#",
   "name": ".net-csharp"
  },
  "language_info": {
   "file_extension": ".cs",
   "mimetype": "text/x-csharp",
   "name": "C#",
   "pygments_lexer": "csharp",
   "version": "8.0"
  }
 },
 "nbformat": 4,
 "nbformat_minor": 5
}
