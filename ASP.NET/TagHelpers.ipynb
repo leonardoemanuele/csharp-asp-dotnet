{
 "cells": [
  {
   "cell_type": "markdown",
   "id": "abe88251-b981-4219-a10b-c9222d84677f",
   "metadata": {},
   "source": [
    "# [TagHelpers](https://docs.microsoft.com/en-us/aspnet/core/mvc/views/tag-helpers/intro?view=aspnetcore-6.0)"
   ]
  },
  {
   "cell_type": "markdown",
   "id": "4a81ab93-9664-452b-b2ff-dad174e417e2",
   "metadata": {},
   "source": [
    "## Tag Helpers are very useful ways to create HTML elements with server-side attributes. For example, when we use an anchor tag, < a > , we usually have an _href_ attribute to direct the user to a specific page when they click it. \n",
    "## Razor Pages provides handy Tag Helpers that help us generate links and other useful information."
   ]
  },
  {
   "cell_type": "markdown",
   "id": "5029e584-a98c-4c0d-acc6-b28c81e8007e",
   "metadata": {},
   "source": [
    "## So instead of writing an anchor tag as so:"
   ]
  },
  {
   "cell_type": "code",
   "execution_count": null,
   "id": "010c5c15-7cdf-4f37-8a52-7b3dccfe608d",
   "metadata": {},
   "outputs": [],
   "source": [
    "<a href=\"/Attendee?attendeeid=10\">View Attendee</a>"
   ]
  },
  {
   "cell_type": "markdown",
   "id": "84595571-1137-4046-8229-5c3a899167e3",
   "metadata": {},
   "source": [
    "## WE can rewirte it with a Tag Helper like this:"
   ]
  },
  {
   "cell_type": "code",
   "execution_count": null,
   "id": "e95a0f1c-2dd0-4321-9477-fed487a54794",
   "metadata": {},
   "outputs": [],
   "source": [
    "<a asp-page=\"/Attendee\"\n",
    "   asp-route-attendeeid=\"10\">View Attendee</a>"
   ]
  },
  {
   "cell_type": "markdown",
   "id": "0fb36f9d-f309-45b0-a25f-b07530e0226a",
   "metadata": {},
   "source": [
    "## There are many available predefined Tag Helpers to help us \n",
    "* generate links, \n",
    "* create forms, \n",
    "* load assets, etc. \n",
    "### There is even one to help us render partials which we just went over! So let’s go ahead and take a look at how some of them work.\n",
    "\n",
    "## Certain tag helpers have optional attributes that they can take."
   ]
  },
  {
   "cell_type": "markdown",
   "id": "1540df4c-4434-4531-8898-42960a0ad315",
   "metadata": {},
   "source": [
    "## The partial tag helpers has the following optional attributes:\n",
    "* ## _for_ : Assign an expression to be evaluated against the current model. This is one way to pass data to the partial."
   ]
  },
  {
   "cell_type": "markdown",
   "id": "7c9f1427-a915-434c-a3ca-ac5a8f3f1246",
   "metadata": {},
   "source": [
    "<partial name=\"_ItemPartial\" for=\"Item\" />"
   ]
  },
  {
   "cell_type": "markdown",
   "id": "c8a80ae4-2ef5-4d17-853f-5bc2b0d13854",
   "metadata": {},
   "source": [
    "Note: The model syntax is inferred so we don’t need to use @Model.Item"
   ]
  },
  {
   "cell_type": "markdown",
   "id": "5eb9f86b-b591-4ed1-841d-a85a5a33f3dc",
   "metadata": {},
   "source": [
    "* ## _model_ : The model which the partial references. This is another way to pass data into our partial. The main difference between _model_ and _for_, is that _model_ allows you to use a more speicific model instead of the inferred one that _for_ provides.\n",
    "## However we **_cannot_** use it in conjunction with _for_ . \n",
    "## We must use one or the other:"
   ]
  },
  {
   "cell_type": "markdown",
   "id": "501b246c-c703-4d9b-9118-049eb10c7a07",
   "metadata": {},
   "source": [
    "<partial name=\"_ItemPartial\" model=\"Model.Item\" />"
   ]
  },
  {
   "cell_type": "markdown",
   "id": "41128255-544b-493b-a816-07c5392dbf72",
   "metadata": {},
   "source": [
    "## In this case, we could pass in a brand new instance of our model:"
   ]
  },
  {
   "cell_type": "markdown",
   "id": "f22da39d-a058-42f1-9d56-28f3ce4db5b3",
   "metadata": {},
   "source": [
    "* ## _view-data_ : Assigns a key/value pair of type _ViewDataDictionary_ that we can pass directly into the partial view:"
   ]
  },
  {
   "cell_type": "markdown",
   "id": "c2fea2be-844d-484f-bb37-9cc27da7ad54",
   "metadata": {},
   "source": [
    "@{\n",
    "    ViewData[\"IsItemReadOnly\"] = true;\n",
    "}\n",
    " \n",
    "<partial name=\"_ItemPartial\" view-data=\"ViewData\" />"
   ]
  },
  {
   "cell_type": "markdown",
   "id": "93e59119-88c6-453f-aacb-be29d7ddafa5",
   "metadata": {},
   "source": [
    "## During runtime, the Razor Application will process the markup and when it reads out certain Tag Helpers it will convert them into plain HTML before sending the page to the user. "
   ]
  },
  {
   "cell_type": "markdown",
   "id": "51d17915-69e6-4a17-9552-1736a1dfe81b",
   "metadata": {},
   "source": [
    "## [ Here is a list of all the tag helpers provided by ASP.NET!](https://docs.microsoft.com/en-us/aspnet/core/mvc/views/tag-helpers/intro?view=aspnetcore-6.0#built-in-aspnet-core-tag-helpers)"
   ]
  },
  {
   "cell_type": "markdown",
   "id": "bcfcd2aa-0f7a-4128-9a2e-3d402a6e9aa3",
   "metadata": {},
   "source": [
    "# Excercise - Making a Dropdown list with Select Tag Helpers"
   ]
  },
  {
   "cell_type": "markdown",
   "id": "61ab67cc-31c9-4256-9c7d-771f5a84c725",
   "metadata": {},
   "source": [
    "Explorella.cshtml.cs"
   ]
  },
  {
   "cell_type": "code",
   "execution_count": 2,
   "id": "a2bfd8a8-b4d4-4849-955f-7af83dfda38a",
   "metadata": {},
   "outputs": [
    {
     "ename": "Unhandled Exception",
     "evalue": "(8,1): error CS7021: Cannot declare namespace in script code",
     "output_type": "error",
     "traceback": [
      "(8,1): error CS7021: Cannot declare namespace in script code"
     ]
    }
   ],
   "source": [
    "using System;\n",
    "using System.Collections.Generic;\n",
    "using System.Linq;\n",
    "using System.Threading.Tasks;\n",
    "using Microsoft.AspNetCore.Mvc;\n",
    "using Microsoft.AspNetCore.Mvc.RazorPages;\n",
    "\n",
    "namespace MyApp.Namespace\n",
    "{\n",
    "  public class ExplorellaModel : PageModel\n",
    "  {\n",
    "    public string Country { get; set; }\n",
    "    \n",
    "    \n",
    "  //Creating a _List Property_ to store new Properties of the Country property\n",
    "  public List<SelectListItem> Countries {get; set;} \n",
    "    \n",
    "    public void OnGet()\n",
    "    {\n",
    "      //Populating the List Countries with Properties\n",
    "      Countries = new List<SelectListItem>\n",
    "          {\n",
    "            new SelectListItem { Value = \"AR\", Text = \"Argentina\" },\n",
    "            new SelectListItem { Value = \"FR\", Text = \"France\" },\n",
    "            new SelectListItem { Value = \"BR\", Text = \"Brazil\"  },\n",
    "            new SelectListItem { Value = \"GER\", Text = \"Germany\" },\n",
    "            new SelectListItem { Value = \"CHI\", Text = \"China\"  },\n",
    "          };\n",
    "    }\n",
    "  }\n",
    "}"
   ]
  },
  {
   "cell_type": "markdown",
   "id": "e0631a52-088b-46ca-8748-3124986e1e84",
   "metadata": {},
   "source": [
    "@page\n",
    "@model MyApp.Namespace.ExplorellaModel\n",
    "@{\n",
    "}\n",
    "\n",
    "<div class=\"jumbotron jumbotron text-white\" style=\"background-image: url(https://c1.staticflickr.com/1/725/20835879729_66b87b0759_b.jpg); background-repeat: no-repeat;\n",
    "    background-position: center center;\n",
    "    background-size: cover;\">\n",
    "\t<div class=\"container\">\n",
    "\t\t<h2 class=\"text-center display-3 mb-4\">Welcome to Explorella!</h2>\n",
    "\t</div>\n",
    "</div>\n",
    "<h1 class=\"display-5\">Pick your next destination!</h1>\n",
    "\n",
    "<form class=\"form-inline\">\n",
    "  <label class=\"my-1 mr-2\" for=\"inlineFormCustomSelectPref\">Preference</label>\n",
    "  \n",
    "    \n",
    "    \n",
    "    \n",
    "  <!-- Select Tag Helper is creating a Dropdown menu, selecting each Country propery, from the List Countries-->\n",
    "   <select class=\"custom-select my-1 mr-sm-2\" asp-for=\"Country\" asp-items=\"Model.Countries\">\n",
    "\n",
    "       \n",
    "       \n",
    "    \n",
    "  </select>\n",
    "\n",
    "  <div class=\"custom-control custom-checkbox my-1 mr-sm-2\">\n",
    "    <input type=\"checkbox\" class=\"custom-control-input\" id=\"customControlInline\">\n",
    "    <label class=\"custom-control-label\" for=\"customControlInline\">Remember my preference</label>\n",
    "  </div>\n",
    "\n",
    "  <button type=\"submit\" class=\"btn btn-primary my-1\">Submit</button>\n",
    "</form>"
   ]
  }
 ],
 "metadata": {
  "kernelspec": {
   "display_name": ".NET (C#)",
   "language": "C#",
   "name": ".net-csharp"
  },
  "language_info": {
   "file_extension": ".cs",
   "mimetype": "text/x-csharp",
   "name": "C#",
   "pygments_lexer": "csharp",
   "version": "8.0"
  }
 },
 "nbformat": 4,
 "nbformat_minor": 5
}
