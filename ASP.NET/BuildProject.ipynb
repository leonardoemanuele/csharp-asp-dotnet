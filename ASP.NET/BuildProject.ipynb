{
 "cells": [
  {
   "cell_type": "markdown",
   "id": "b308d351-989d-429c-8711-b85c66f389d1",
   "metadata": {},
   "source": [
    "# Build a Project from a Template\n",
    "### A database is a program that allows data to be easily accessed, manipulated, and updated. The database can persist data in memory or on disk and is managed by a service that runs on a server or in the cloud.\n",
    "## Our goal is to attach a databse to an ASP.NET web site and store some data in row and column format\n",
    "### The .NET Core command line utility dotnet can create a new project and build all the files necessary to get us up and running"
   ]
  },
  {
   "cell_type": "markdown",
   "id": "904f6e17-1de2-4824-847e-d0374c6054aa",
   "metadata": {},
   "source": [
    "## There is a basic sequence of tasks required to create the database and a set of pages necessary to _Create, Read, Update, and Delete_ data items (often referred to by the acronym _CRUD_). All the tasks are managed by C# code in a set of NuGet packages."
   ]
  },
  {
   "cell_type": "markdown",
   "id": "a9f2eb49-8589-49e2-8904-08f833b156bf",
   "metadata": {},
   "source": [
    "### Not all ASP.NET sites need database management so this feature is added separately. Our sample uses an open source database called [SQLite](https://sqlite.org/download.html) and the Microsoft open source [Entity Framework](https://docs.microsoft.com/en-us/aspnet/entity-framework) tools (often called EF). EF is a Microsoft data framework that uses C# classes and methods to represent data entities. There are many alternative frameworks including micro-ORMs (Object Relational Mapping) like Dapper, NHibernate, and SQLAlchemy."
   ]
  },
  {
   "cell_type": "markdown",
   "id": "c45379cc-7f82-4e29-afc6-ae45beda26c7",
   "metadata": {},
   "source": [
    "# Excercise\n",
    "* ## Use the dotnet command to create a new project in the current directory with the namespace RazorCountry:"
   ]
  },
  {
   "cell_type": "markdown",
   "id": "1fb5a701-9415-4862-93f4-9882139ee7d2",
   "metadata": {},
   "source": [
    "dotnet new webapp -o . -n RazorCountry"
   ]
  },
  {
   "cell_type": "markdown",
   "id": "8b92c422-c7f9-4f7e-80f6-e46056307ba2",
   "metadata": {},
   "source": [
    "* ##  Inspect the Project File\n",
    "### Open the _RazorCountry.csproj_ file. This is a project file for .NET Core. It uses markup syntax to store the _< TargetFramework >_"
   ]
  },
  {
   "cell_type": "code",
   "execution_count": null,
   "id": "c7a14bab-8128-4c58-b37d-726eaefeb479",
   "metadata": {},
   "outputs": [],
   "source": [
    "<Project Sdk=\"Microsoft.NET.Sdk.Web\">\n",
    "\n",
    "  <PropertyGroup>\n",
    "    <TargetFramework>netcoreapp3.1</TargetFramework>\n",
    "  </PropertyGroup>\n",
    "\n",
    "</Project>"
   ]
  },
  {
   "cell_type": "markdown",
   "id": "c95ed8cb-8fa8-494d-9d75-3bc65f72ff9c",
   "metadata": {},
   "source": [
    "* ## Inspect the Program File \n",
    "Program.cs"
   ]
  },
  {
   "cell_type": "code",
   "execution_count": null,
   "id": "9b45fcb5-08ef-4982-86a0-f1f22e1a24a3",
   "metadata": {},
   "outputs": [],
   "source": [
    "using System;\n",
    "using System.Collections.Generic;\n",
    "using System.Linq;\n",
    "using System.Threading.Tasks;\n",
    "using Microsoft.AspNetCore.Hosting;\n",
    "using Microsoft.Extensions.Configuration;\n",
    "using Microsoft.Extensions.Hosting;\n",
    "using Microsoft.Extensions.Logging;\n",
    "\n",
    "namespace RazorCountry\n",
    "{\n",
    "  public class Program\n",
    "    {\n",
    "\t\t\tpublic static void Main(string[] args)\n",
    "\t\t\t{\n",
    "        CreateHostBuilder(args).Build().Run();\n",
    "\t\t\t}\n",
    "\n",
    "\t\t\tpublic static IHostBuilder CreateHostBuilder(string[] args) =>\n",
    "\t\t\t\tHost.CreateDefaultBuilder(args)\n",
    "\t\t\t\t\t.ConfigureWebHostDefaults(webBuilder =>\n",
    "\t\t\t\t\t{\n",
    "\t\t\t\t\t\t\twebBuilder.UseStartup<Startup>();\n",
    "\t\t\t\t\t});\n",
    "    }\n",
    "}"
   ]
  },
  {
   "cell_type": "markdown",
   "id": "e63dfe4b-b309-451c-994a-03ab0eb43ff8",
   "metadata": {},
   "source": [
    "* # Inspect the Startup file\n",
    "## Startup.cs has a class constructor that is passed a configuration object defined by the interface _IConfiguration_. \n",
    "## This interface requires the _ConfigureServices()_ and _Configure()_ methods.\n",
    "## _Services_ are bodies of C# code that are accessible to all pages and classes in your project. \n",
    "## In this case the _AddRazorPages()_ service is added to support UI pages with Razor syntax. \n",
    "## THe _Configure()_ method adds additional features:\n",
    "* ## _UseHttpRedirection_ (reroutes HTTP requests to HTTPS)\n",
    "* ## _UseStaticFiles_ (allows JS, CSS, images, and other static files)\n",
    "* ## _UseRouting_ (manages the URL in the browser)\n",
    "* ## _UseAuthorization_ (allows login and user personalization)\n",
    "* ## _UseEndpoints_ (which calls MapRazorPages() to establish URL routing)."
   ]
  },
  {
   "cell_type": "code",
   "execution_count": null,
   "id": "6428b687-b0c0-410f-9b86-2ae2d9550330",
   "metadata": {},
   "outputs": [],
   "source": [
    "using System;\n",
    "using System.Collections.Generic;\n",
    "using System.Linq;\n",
    "using System.Threading.Tasks;\n",
    "using Microsoft.AspNetCore.Builder;\n",
    "using Microsoft.AspNetCore.Hosting;\n",
    "using Microsoft.AspNetCore.HttpsPolicy;\n",
    "using Microsoft.Extensions.Configuration;\n",
    "using Microsoft.Extensions.DependencyInjection;\n",
    "using Microsoft.AspNetCore.Mvc;\n",
    "using Microsoft.Extensions.Hosting;\n",
    "\n",
    "namespace RazorCountry\n",
    "{\n",
    "  public class Startup\n",
    "  {\n",
    "    public Startup(IConfiguration configuration)\n",
    "    {\n",
    "      Configuration = configuration;\n",
    "    }\n",
    "\n",
    "    public IConfiguration Configuration { get; }\n",
    "\n",
    "    // This method gets called by the runtime. Use this method to add services to the container.\n",
    "    public void ConfigureServices(IServiceCollection services)\n",
    "    {\n",
    "      services.AddRazorPages().AddRazorPagesOptions(options =>\n",
    "      {\n",
    "        options.Conventions.ConfigureFilter(new IgnoreAntiforgeryTokenAttribute());\n",
    "      });\n",
    "    }\n",
    "\n",
    "    // This method gets called by the runtime. Use this method to configure the HTTP request pipeline.\n",
    "    public void Configure(IApplicationBuilder app, IWebHostEnvironment env)\n",
    "    {\n",
    "      if (env.IsDevelopment())\n",
    "      {\n",
    "        app.UseDeveloperExceptionPage();\n",
    "      }\n",
    "      else\n",
    "      {\n",
    "        app.UseExceptionHandler(\"/Error\");\n",
    "        // The default HSTS value is 30 days. You may want to change this for production scenarios, see https://aka.ms/aspnetcore-hsts.\n",
    "        app.UseHsts();\n",
    "      }\n",
    "\n",
    "      app.UseHttpsRedirection();\n",
    "      app.UseStaticFiles();\n",
    "\n",
    "      app.UseRouting();\n",
    "\n",
    "      app.UseAuthorization();\n",
    "\n",
    "      app.UseEndpoints(endpoints =>\n",
    "      {\n",
    "        endpoints.MapRazorPages();\n",
    "      });\n",
    "    }\n",
    "  }\n",
    "}"
   ]
  },
  {
   "cell_type": "markdown",
   "id": "b19f9b07-ccb5-4be2-bd2d-501eeebc7eae",
   "metadata": {},
   "source": [
    "* # Inspect the _appsettings.json_ File\n",
    "## Things like logging levels nd databases connection strings are stored here. The app settings can change from one environment to another and it is common to have separates files for Development, User Acceptance and Production"
   ]
  },
  {
   "cell_type": "code",
   "execution_count": null,
   "id": "2838e394-2249-4128-b5b7-9e338a8e468a",
   "metadata": {},
   "outputs": [],
   "source": [
    "{\n",
    "  \"Logging\": {\n",
    "    \"LogLevel\": {\n",
    "      \"Default\": \"Information\",\n",
    "      \"Microsoft\": \"Warning\",\n",
    "      \"Microsoft.Hosting.Lifetime\": \"Information\"\n",
    "    }\n",
    "  },\n",
    "  \"AllowedHosts\": \"*\"\n",
    "}"
   ]
  },
  {
   "cell_type": "markdown",
   "id": "054e9232-20c9-49d3-ad3e-b10106be1a55",
   "metadata": {},
   "source": [
    "* # Inspect the _launchSettings.json_ File\n",
    "## This file defines launch parameters with options for authentication and the web server hosting environment. Look here to see what port number will be used when testing your site in a browser."
   ]
  },
  {
   "cell_type": "code",
   "execution_count": null,
   "id": "f36ba0ba-0b0b-42f3-a788-169ea51a8436",
   "metadata": {},
   "outputs": [],
   "source": [
    "{\n",
    "  \"iisSettings\": {\n",
    "    \"windowsAuthentication\": false, \n",
    "    \"anonymousAuthentication\": true, \n",
    "    \"iisExpress\": {\n",
    "      \"applicationUrl\": \"http://localhost:34883\",\n",
    "      \"sslPort\": 44358\n",
    "    }\n",
    "  },\n",
    "  \"profiles\": {\n",
    "    \"IIS Express\": {\n",
    "      \"commandName\": \"IISExpress\",\n",
    "      \"launchBrowser\": true,\n",
    "      \"environmentVariables\": {\n",
    "        \"ASPNETCORE_ENVIRONMENT\": \"Development\"\n",
    "      }\n",
    "    },\n",
    "    \"RazorCountry\": {\n",
    "      \"commandName\": \"Project\",\n",
    "      \"launchBrowser\": true,\n",
    "      \"applicationUrl\": \"https://localhost:5001;http://localhost:5000\",\n",
    "      \"environmentVariables\": {\n",
    "        \"ASPNETCORE_ENVIRONMENT\": \"Development\"\n",
    "      }\n",
    "    }\n",
    "  }\n",
    "}"
   ]
  },
  {
   "cell_type": "markdown",
   "id": "9788adda-679a-4bba-92b1-a8948a3500f4",
   "metadata": {},
   "source": [
    "* # Inspect the site.css File\n",
    "## There are default folders for css (styles), js (front end JavaScript code), and lib (third party libraries)\n",
    "## Data validation requires JavaScript files which are stored in the wwwroot/scripts"
   ]
  },
  {
   "cell_type": "markdown",
   "id": "4c0d6f7a-b479-4e2e-9cb0-34f7299f96fd",
   "metadata": {},
   "source": [
    "* # Inspect the Index Page Model File\n",
    "## Notice that the class name matches the Razor page name with the suffix Model. These classes must inherit from the PageModel class. By default, a logger service is injected into the constructor for the PageModel. This enables centralized error logging."
   ]
  },
  {
   "cell_type": "markdown",
   "id": "d35c2756-9506-4f51-b34e-a88328dbe8ef",
   "metadata": {},
   "source": [
    "* # Inspect the _ViewStart File\n",
    "## he file _Viewstart.cshtml is a hidden (starts with _) page that is included in all other pages. A common use for this is setting the layout page so all pages have a consistent header, left navigation, and footer."
   ]
  },
  {
   "cell_type": "markdown",
   "id": "941d6a19-8230-45f4-a0d1-43945770ca59",
   "metadata": {},
   "source": [
    "* # Inspect the _ViewImports File\n",
    "## _ViewImports.cshtml is a hidden page that is included at the top of each of the other pages. It is commonly used to add using statements so all code has access to the correct namespaces and assemblies."
   ]
  },
  {
   "cell_type": "markdown",
   "id": "7351ecc0-62cc-4123-aabc-bfa6f91e2cef",
   "metadata": {},
   "source": [
    "* # Inspect the _Layout File\n",
    "## This hidden page defines the HTML for the header, left navigation, and footer. There are two special directives used in this page. _@RenderBody()_ is replaced with the markup from each page that uses _Layout.\n",
    "## In this case it lives inside a < div class=\"container\">. This is a bootstrap CSS convention that provides correct spacing and padding.\n",
    "##  The second directive is @RenderSection. This will be replaced by _< script >_ blocks as needed for things like input validation."
   ]
  },
  {
   "cell_type": "code",
   "execution_count": null,
   "id": "af804a1a-f0dc-4488-a24d-e6fa1583deda",
   "metadata": {},
   "outputs": [],
   "source": [
    "!DOCTYPE html>\n",
    "<html lang=\"en\">\n",
    "<head>\n",
    "    <meta charset=\"utf-8\" />\n",
    "    <meta name=\"viewport\" content=\"width=device-width, initial-scale=1.0\" />\n",
    "    <title>@ViewData[\"Title\"] - RazorCountry</title>\n",
    "    <link rel=\"stylesheet\" href=\"~/lib/bootstrap/dist/css/bootstrap.min.css\" />\n",
    "    <link rel=\"stylesheet\" href=\"~/css/site.css\" />\n",
    "</head>\n",
    "\n",
    "<body>\n",
    "    <header>\n",
    "        <nav class=\"navbar navbar-expand-sm navbar-toggleable-sm navbar-light bg-white border-bottom box-shadow mb-3\">\n",
    "            <div class=\"container\">\n",
    "                <a class=\"navbar-brand\" asp-area=\"\" asp-page=\"/Index\">RazorCountry</a>\n",
    "                <button class=\"navbar-toggler\" type=\"button\" data-toggle=\"collapse\" data-target=\".navbar-collapse\" aria-controls=\"navbarSupportedContent\"\n",
    "                        aria-expanded=\"false\" aria-label=\"Toggle navigation\">\n",
    "                    <span class=\"navbar-toggler-icon\"></span>\n",
    "                </button>\n",
    "                <div class=\"navbar-collapse collapse d-sm-inline-flex flex-sm-row-reverse\">\n",
    "                    <ul class=\"navbar-nav flex-grow-1\">\n",
    "                        <li class=\"nav-item\">\n",
    "                            <a class=\"nav-link text-dark\" asp-area=\"\" asp-page=\"/Index\">Home</a>\n",
    "                        </li>\n",
    "                        <li class=\"nav-item\">\n",
    "                            <a class=\"nav-link text-dark\" asp-area=\"\" asp-page=\"/Privacy\">Privacy</a>\n",
    "                        </li>\n",
    "                    </ul>\n",
    "                </div>\n",
    "            </div>\n",
    "        </nav>\n",
    "    </header>\n",
    "\n",
    "<!-----------RENDERBODY--------------->\n",
    "\n",
    "    <div class=\"container\">\n",
    "        <main role=\"main\" class=\"pb-3\">\n",
    "            @RenderBody()\n",
    "        </main>\n",
    "    </div>\n",
    "\n",
    "    <footer class=\"border-top footer text-muted\">\n",
    "        <div class=\"container\">\n",
    "            &copy; 2020 - RazorCountry - <a asp-area=\"\" asp-page=\"/Privacy\">Privacy</a>\n",
    "        </div>\n",
    "    </footer>\n",
    "\n",
    "<!-----------RENDERSCRIPTS--------------->\n",
    "\n",
    "    <script src=\"~/lib/jquery/dist/jquery.min.js\"></script>\n",
    "    <script src=\"~/lib/bootstrap/dist/js/bootstrap.bundle.min.js\"></script>\n",
    "    <script src=\"~/js/site.js\" asp-append-version=\"true\"></script>\n",
    "\n",
    "    @RenderSection(\"Scripts\", required: false)\n",
    "</body>\n",
    "</html>"
   ]
  },
  {
   "cell_type": "markdown",
   "id": "ded1eb6c-2db9-48e4-b372-b8cf07148fd3",
   "metadata": {},
   "source": [
    "* # Add Data Models\n",
    "## Models are C# classes that define entity structure.\n",
    "## Each class usually maps directly to a database table. \n",
    "## Some types of databases (called no-SQL) do not have tables\n",
    "## That is why we refer to the model class as an entity and not specifically a table\n",
    "## The models are simple C# classes with the name representing an entity\n",
    "## Think this as a spreadsheet with _tables_ that have _columns_\n",
    "## Each sheet is an entity.\n",
    "## Each _column_ in the sheet has a name (_Property_). \n",
    "## They represent _schema_\n",
    "## Each _Property_ must have a data type\n",
    "## Each _Property has a getter and setter which mean it can be written or read from_\n",
    "Example"
   ]
  },
  {
   "cell_type": "code",
   "execution_count": null,
   "id": "7d645aa7-244f-4a21-abd4-f9a5ac747d9e",
   "metadata": {},
   "outputs": [],
   "source": [
    "public class Student\n",
    "{\n",
    "   public string ID { get; set; }\n",
    "   public string Name { get; set; }\n",
    "\n",
    "}"
   ]
  },
  {
   "cell_type": "markdown",
   "id": "35968dfe-54c4-4d64-9153-7808f4235b09",
   "metadata": {},
   "source": [
    "* ## Add Database _ConnectionString_\n",
    "## The connection string is the link from the C# code to the physical database.\n",
    "## The context must know where the database is located and how to authenticate to the database service. \n",
    "##  That information is usually stored in a string specific to an environment: _development, testing, staging, or production_\n",
    "## ASP.NET provides a handy place to store strings like this. It is the file called appsettings.json. \n",
    "## By convention the connection string will have the same name as the context class.b"
   ]
  },
  {
   "cell_type": "code",
   "execution_count": null,
   "id": "8289ff49-13f1-41c3-9cca-cbac13e016f4",
   "metadata": {},
   "outputs": [],
   "source": [
    "{\n",
    "  \"Logging\": {\n",
    "    \"LogLevel\": {\n",
    "      \"Default\": \"Information\",\n",
    "      \"Microsoft\": \"Warning\",\n",
    "      \"Microsoft.Hosting.Lifetime\": \"Information\"\n",
    "    }\n",
    "  },\n",
    "  \"AllowedHosts\": \"*\", \n",
    "    \n",
    "    \n",
    "   \"ConnectionStrings\": { \"CountryContext\": \"Data Source=Country.db\" }\n",
    "}"
   ]
  },
  {
   "cell_type": "markdown",
   "id": "2a3050f8-2671-4d07-95dd-c6557ea5443a",
   "metadata": {},
   "source": [
    "* # Add Entity Framework Tools\n",
    "## The standard project template does not include all the tools needed to work with Entity Framework\n",
    "## The _dotnet_ command line tool can install these for you."
   ]
  },
  {
   "cell_type": "code",
   "execution_count": null,
   "id": "b9ed85c8-2b21-4d1e-b433-7c48f1c1a925",
   "metadata": {},
   "outputs": [],
   "source": [
    "dotnet add package Microsoft.EntityFrameworkCore.SQLite"
   ]
  },
  {
   "cell_type": "code",
   "execution_count": null,
   "id": "6b206b69-3117-447c-a004-eebef895e6f5",
   "metadata": {},
   "outputs": [],
   "source": [
    "dotnet add package Microsoft.EntityFrameworkCore.Design"
   ]
  },
  {
   "cell_type": "code",
   "execution_count": null,
   "id": "d289e25f-b77a-4bac-9412-959678617345",
   "metadata": {},
   "outputs": [],
   "source": [
    "dotnet add package Microsoft.EntityFrameworkCore.Tools"
   ]
  }
 ],
 "metadata": {
  "kernelspec": {
   "display_name": ".NET (C#)",
   "language": "C#",
   "name": ".net-csharp"
  },
  "language_info": {
   "file_extension": ".cs",
   "mimetype": "text/x-csharp",
   "name": "C#",
   "pygments_lexer": "csharp",
   "version": "8.0"
  }
 },
 "nbformat": 4,
 "nbformat_minor": 5
}
