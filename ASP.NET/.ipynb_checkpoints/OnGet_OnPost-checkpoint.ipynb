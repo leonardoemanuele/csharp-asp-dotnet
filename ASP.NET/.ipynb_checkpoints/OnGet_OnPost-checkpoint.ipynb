{
 "cells": [
  {
   "cell_type": "markdown",
   "id": "77751f4b-3706-4bd0-b056-2ef70b2d1733",
   "metadata": {},
   "source": [
    "* # OnGet()\n",
    "## Page models handle [HTTP requests](https://www.codecademy.com/articles/http-requests), like _GET_ and _POST_\n",
    "## We define their response using handler methods."
   ]
  },
  {
   "cell_type": "markdown",
   "id": "fc024cc3-4873-46a4-9d65-9ef878c4cb0a",
   "metadata": {},
   "source": [
    "## One of those handler method is the _OnGet()_ method. Whenever a user makes a _GET_ request to a page, the page model's _Onget()_ method is invoked."
   ]
  },
  {
   "cell_type": "markdown",
   "id": "a010f5fb-c8d5-45a9-bbeb-a70ec1a795fc",
   "metadata": {},
   "source": [
    "## For example, if a user navigates to _localhost:8000/Archive_ in the browser:\n",
    "* ## The browser sends a _GET_ request to that URL \n",
    "* ## localhost:8000/Archive corresponds to _Archive.cshtml_ so it receives the request.\n",
    "* ## Archive.cshtml page references the page model _ArchiveModel_, so that class’ OnGet() method will be invoked."
   ]
  },
  {
   "cell_type": "markdown",
   "id": "a5233c15-4715-4256-873c-ddb4878b625b",
   "metadata": {},
   "source": [
    "* # OnPost()\n",
    "## The _OnePost()_ handler method is invoked when a _POST_ request is sent to a page. \n",
    "## This usually happens when a user submits a form (an HTML < form > element)"
   ]
  },
  {
   "cell_type": "markdown",
   "id": "f7cfdb6c-32d5-475c-8bea-1fc202ce0a8e",
   "metadata": {},
   "source": [
    "## Just like with _OnGet()_ the default behavior of an empty _OnPost()_ method is to send the corresponding page. \n",
    "## Without a _return_ statement, this method also returns void."
   ]
  },
  {
   "cell_type": "markdown",
   "id": "cedd8484-fac8-4873-bf51-0093bf5eab32",
   "metadata": {},
   "source": [
    "public void OnPost()\n",
    "{ }"
   ]
  },
  {
   "cell_type": "markdown",
   "id": "1984c772-de26-46a2-935d-6a0018bf6355",
   "metadata": {},
   "source": [
    "## Usually POST requests come with some information in the form of a query string. For example, say that a form at _www.library.com/favorite_ asks for a book and an author: "
   ]
  },
  {
   "cell_type": "code",
   "execution_count": null,
   "id": "62a2b9e4-de35-4698-920a-af410d0cd58a",
   "metadata": {},
   "outputs": [],
   "source": [
    "<form method=\"post\">\n",
    "  <div class=\"form-group\">\n",
    "    <label for=\"Title\">Title</label>\n",
    "    <input type=\"text\" class=\"form-control\" id=\"Title\" name=\"Title\">\n",
    "  </div>\n",
    "  <div class=\"form-group\">\n",
    "    <label for=\"Author\">Author</label>\n",
    "    <input type=\"text\" class=\"form-control\" id=\"Author\" name=\"Author\">\n",
    "  </div>\n",
    "  <button type=\"submit\" class=\"btn btn-primary\">Submit</button>\n",
    "</form>"
   ]
  },
  {
   "cell_type": "markdown",
   "id": "d1f1ee66-e67d-48f3-b35f-381b29cf0fe8",
   "metadata": {},
   "source": [
    "## Notice that each < input >  has a _name_ attribute - _Title_ and _Author_ ."
   ]
  },
  {
   "cell_type": "markdown",
   "id": "2f0a0544-5512-476d-8aeb-1c68c6be95eb",
   "metadata": {},
   "source": [
    "<form method=\"post\">\n",
    "  <div class=\"form-group\">\n",
    "    <label for=\"Title\">Title</label>\n",
    "    <input type=\"text\" class=\"form-control\" id=\"Title\" name=\"Title\">\n",
    "  </div>\n",
    "  <div class=\"form-group\">\n",
    "    <label for=\"Author\">Author</label>\n",
    "    <input type=\"text\" class=\"form-control\" id=\"Author\" name=\"Author\">\n",
    "  </div>\n",
    "  <button type=\"submit\" class=\"btn btn-primary\">Submit</button>\n",
    "</form>"
   ]
  },
  {
   "cell_type": "markdown",
   "id": "8128a3bb-9c41-47d8-ab6f-7018943a9ffa",
   "metadata": {},
   "source": [
    "## If a user provided the input _\"Norwegian Wood\"_ by _\"Murakami\"_ \n",
    "## the URL would look like this \n",
    "## _+_ represent a space"
   ]
  },
  {
   "cell_type": "code",
   "execution_count": null,
   "id": "4509add7-fffe-474d-8435-4e220e0146d2",
   "metadata": {},
   "outputs": [],
   "source": [
    "www.library.com/favorite?Title=Norwegian+Wood&Author=Murakami"
   ]
  },
  {
   "cell_type": "markdown",
   "id": "bff64327-44d5-4eea-b120-714d09bacc34",
   "metadata": {},
   "source": [
    "## _OnPost()_ can capture the values in the query string via matching method parameters. \n",
    "## To capture the above values, the method would look like this:"
   ]
  },
  {
   "cell_type": "code",
   "execution_count": null,
   "id": "ea631ffc-d311-4c4e-a338-4c9dba0d604b",
   "metadata": {},
   "outputs": [],
   "source": [
    "public void OnPost(string title, string author)\n",
    "{\n",
    "  Title = title;\n",
    "  Author = author;\n",
    "}"
   ]
  },
  {
   "cell_type": "markdown",
   "id": "b6071977-d849-4fed-a3fd-5f2c8f93ef52",
   "metadata": {},
   "source": [
    "# Model Binding\n",
    "## In the previous excercise we typed out each parameter name in the form, then copied them over to the _OnPost()_ method, then set them equal to the properties. \n",
    "## In some cases we would need a fourth step to convert each value into a valid .NET type"
   ]
  },
  {
   "cell_type": "markdown",
   "id": "77a2f5aa-2fcf-4fe5-bceb-3562b9e15797",
   "metadata": {},
   "source": [
    "## ASP.NET Core provides a feature that takes care of all that for us: _model binding_. \n",
    "## In _model binding_ : \n",
    "* ## data is retrieved from an HTTP request\n",
    "* ## data is converted into .NET types, and it is stored in corresponsing model properties."
   ]
  },
  {
   "cell_type": "markdown",
   "id": "4eca531d-6f20-4ec7-ba9a-9c4ce7111aea",
   "metadata": {},
   "source": [
    "# To activate model binding in a page model:\n",
    "* ## make sure that the desired property name matchesthe _name_ attribute in HTML form\n",
    "* ## label it with the attribute _[BindProperty]_"
   ]
  },
  {
   "cell_type": "code",
   "execution_count": null,
   "id": "713fbdc9-47b9-463e-b002-3af72c67ba00",
   "metadata": {},
   "outputs": [],
   "source": [
    "[BindProperty]\n",
    "string Title { get; set; }\n",
    " \n",
    "[BindProperty]\n",
    "string Author { get; set; }"
   ]
  },
  {
   "cell_type": "markdown",
   "id": "bf4435af-44c1-4054-b3d0-20931f6a97b0",
   "metadata": {},
   "source": [
    "## We can then remove the method parameters and assume that the submitted form values are set to their corresponding properties:"
   ]
  },
  {
   "cell_type": "code",
   "execution_count": null,
   "id": "37d87bd6-56bb-45c6-85a0-a42cb49d9ba9",
   "metadata": {},
   "outputs": [],
   "source": [
    "// No more method parameters!\n",
    "// No more Author = author!\n",
    "public void OnPost()\n",
    "{ }"
   ]
  },
  {
   "cell_type": "markdown",
   "id": "aeedb9ea-56fe-4a84-bc73-8c006691e0fe",
   "metadata": {},
   "source": [
    "Technically, you also need to use the _Microsoft.AspNetCore.Mvc_ namespace, but that is included in default ASP.NET templates. If you’d like to learn more, [read about model binding in the Microsoft documentation.](https://docs.microsoft.com/en-us/aspnet/core/mvc/models/model-binding?view=aspnetcore-6.0)"
   ]
  }
 ],
 "metadata": {
  "kernelspec": {
   "display_name": ".NET (C#)",
   "language": "C#",
   "name": ".net-csharp"
  },
  "language_info": {
   "file_extension": ".cs",
   "mimetype": "text/x-csharp",
   "name": "C#",
   "pygments_lexer": "csharp",
   "version": "8.0"
  }
 },
 "nbformat": 4,
 "nbformat_minor": 5
}
