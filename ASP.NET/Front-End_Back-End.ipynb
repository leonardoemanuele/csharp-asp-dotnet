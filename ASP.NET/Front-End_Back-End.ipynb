{
 "cells": [
  {
   "cell_type": "markdown",
   "id": "1c9af9a1-0552-42c8-9a7b-b19d676155b6",
   "metadata": {},
   "source": [
    "# FRONT and BACK\n",
    "* # The front-end\n",
    "## of a website or application consists of the HTML, CSS, JavaScript, and static assets sent to a client, like a web browser.\n",
    "* # The Web Server\n",
    "## A web server is a process running on a computer that listens for incoming requests for information over the internet and sends back responses\n",
    "## Each time a user navigates to a website with the broweser, the browser (_client_) make a request to the _web server_ of that website.\n",
    "## Every websites have at least one web server. A large company like Facebook has thousands of web servers in facilities located all around the world which are listening for requests.\n",
    "## The specific format of a request(and the resulting response) is called _PROTOCOL_ , for example **HTTP requests**\n",
    "## The web server that receive a request and sends to the client a response with all needed to open the website is called **_static website_**\n",
    "## It is called _static_ because once those file are received they don't change or move. \n",
    "## A static website is good for simple personal websites, but not like _modern web application_ like Twitter, or others..."
   ]
  },
  {
   "cell_type": "markdown",
   "id": "4506c01e-1f86-4a4d-a7ed-731a5254df22",
   "metadata": {},
   "source": [
    "## So What is the Back-end?"
   ]
  },
  {
   "cell_type": "markdown",
   "id": "b5a20017-5ab5-41d4-a847-01b1f4111b7c",
   "metadata": {},
   "source": [
    "## When user navigate to google.com, their request only specifies the URL. The web application's _back-end_ will need to hold the logic for deciding which assets to send. \n",
    "## Moreover, modern web applications often cater to the specific user rather than sending the same files to every visitor.\n",
    "## This is known as _dynamic content_ "
   ]
  },
  {
   "cell_type": "markdown",
   "id": "531d0678-9b96-4647-ae75-655384225178",
   "metadata": {},
   "source": [
    "# Storing Data\n",
    "## There are many different database but we can divide them into two types:\n",
    "* ## Relational databese https://www.codecademy.com/articles/what-is-rdbms-sql\n",
    "* ## non-relational databases(NoSQL) https://en.wikipedia.org/wiki/NoSQL"
   ]
  },
  {
   "cell_type": "markdown",
   "id": "59535257-1efb-4dd0-9469-66480d1df32a",
   "metadata": {},
   "source": [
    "# API - Application Program Interface\n",
    "## When user navigates to a specific item for sale on an e-commerce site, the price listed for that item is stored in a database, and when they purchase it, the database need to be updated with correct inventory for that item\n",
    "#\n",
    "## In order to have consistent ways of intercating with data, a back-end will often include a _web API_\n",
    "## Web Api is a collection of predefined ways of, or rules for, intercating with a web application's data, often through an HTTP request-response cycle. \n",
    "## Unlike the HTTP request made by the _client_ when a user navigates to a website's URL, this type of request indicate how to interact with a web application's data (create new data, read existing data, update exisiting data, delete...), and it receives some data back as a response."
   ]
  },
  {
   "cell_type": "markdown",
   "id": "5671846e-28ce-4e16-9528-7bc2daea3e85",
   "metadata": {},
   "source": [
    "# Authorization and Authentication\n",
    "* ## _Authentication_ is the process of validating the identity of a user. One technique is to use logins with username and passwords. This credentials need to be securely stored in the back-end on a databases and checked upon each visit. Web applications can also use external\n",
    "* ## _Authorization_ controls which users have access to which resources and actions."
   ]
  },
  {
   "cell_type": "markdown",
   "id": "94de5b15-617a-481b-8371-c4e46f6e4366",
   "metadata": {},
   "source": [
    "## When building a robust web application back-end, we need to incorporate both authentication(Who is this user? Are they who they claim to be?) and authorization(Who is allowed to do and see what)"
   ]
  },
  {
   "cell_type": "markdown",
   "id": "1d6efde4-e1cd-4041-82f7-cc7fb95f8430",
   "metadata": {},
   "source": [
    "# Different Back-end Stacks\n",
    "## Unlike the front-end, which must be built using HTML, CSS, and Javascript\n",
    "## there is a lot of flexibility in which technologies can be used in order to create the back-end of a web application. \n",
    "## Developers can contruct back-ends in many different languages like PHP, Java, JavaScript, Python, and more...\n",
    "## You dont have to reinvent the wheel to create a robust back-end.\n",
    "## Instead, most developers make use of _frameworks_ which are collections of tools that shape the organization of your back-end and provide efficient way of accomplishing difficult tasks.\n",
    "## There are numerous back-end frameworks from which developers can choose. "
   ]
  },
  {
   "cell_type": "code",
   "execution_count": null,
   "id": "6db7390e-6454-46d6-909e-5aa16bfb73c6",
   "metadata": {},
   "outputs": [],
   "source": [
    "Framework\tLanguage\n",
    "Laravel\tPHP\n",
    "Express.js\tJavaScript (runs in the Node environment)\n",
    "Ruby on Rails\tRuby\n",
    "Spring\tJava\n",
    "JSF\tJava\n",
    "Flask\tPython\n",
    "Django\tPython\n",
    "ASP.NET\tC#"
   ]
  },
  {
   "cell_type": "markdown",
   "id": "9c8fa5f7-ef23-4e36-8f45-c8691615c09d",
   "metadata": {},
   "source": [
    "## The collection of technologies used to create the front-end and back-end of a web application is referred as **_stack_**"
   ]
  },
  {
   "cell_type": "markdown",
   "id": "75995a71-9a4d-4aca-ad04-4cd4b3f012bd",
   "metadata": {},
   "source": [
    "* # M E A N (MongoDB, Express.js, AngularJS (or Angular), and Node.js))\n",
    " ## MongoDB is used for database\n",
    "## Express.js and Node.js are used for the back-end\n",
    "## Angular is used as a front-end framework. \n",
    "https://en.wikipedia.org/wiki/MEAN_(solution_stack)"
   ]
  },
  {
   "cell_type": "markdown",
   "id": "9fb92e42-f629-4171-ac88-b27a366ee4ce",
   "metadata": {},
   "source": [
    "* # L A M P (Linux, Apache, MySQL, and PHP,Perl,Python)\n",
    "## Linux for the operating systems\n",
    "## Apache as HTTP server\n",
    "## MySql for the databases\n",
    "## PHP, or Python for application programming language\n",
    "https://en.wikipedia.org/wiki/LAMP_(software_bundle)"
   ]
  },
  {
   "cell_type": "markdown",
   "id": "7e2cdfd8-19eb-4c63-918a-9ea4805ad422",
   "metadata": {},
   "source": [
    "# Review\n",
    "* ## The front-end of a website or application consists of the HTML, CSS, JavaScript, and static assets sent to a client, like a web browser.\n",
    "* ## A Web Server is a process running on a computer somewhere that listens for incoming requests for information over the internet and sends back responses.\n",
    "* ## Storing, accessing, and manipulating data is a large part of a web application’s back-end\n",
    "* ## Data is stored in databases which can be relational databases or NoSQL databases.\n",
    "* ## The server-side of a web application, sometimes called the application server, handles important tasks such as authorization and authentication.\n",
    "* ## The back-end of web application often has a web API which is a way of interacting with an application’s data through HTTP requests and responses.\n",
    "* ## ogether the technologies used to build the front-end and back-end of a web application are known as the stack, and many different languages and frameworks can be used to build a robust back-end."
   ]
  }
 ],
 "metadata": {
  "kernelspec": {
   "display_name": "Python 3",
   "language": "python",
   "name": "python3"
  },
  "language_info": {
   "codemirror_mode": {
    "name": "ipython",
    "version": 3
   },
   "file_extension": ".py",
   "mimetype": "text/x-python",
   "name": "python",
   "nbconvert_exporter": "python",
   "pygments_lexer": "ipython3",
   "version": "3.8.8"
  }
 },
 "nbformat": 4,
 "nbformat_minor": 5
}
