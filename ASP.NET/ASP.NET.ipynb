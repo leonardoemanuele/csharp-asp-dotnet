{
 "cells": [
  {
   "cell_type": "markdown",
   "id": "c4c75d81-4834-4ab7-8d3f-7a0b4a9500c6",
   "metadata": {},
   "source": [
    "# What is .NET \n",
    "## Informally, .NET is the tool that lets you build and run C# programs\n",
    "## When you download .NET you are really downloading a bunch of programs that:\n",
    "* ## Translate your C# code into instructions that a computer can understand\n",
    "* ## Providing utilitires for building software (like tools for prinitng text to the screen, finding the current time..)\n",
    "* ## Define a set of data types that make it easier for you to store information in your programs, like text, numbers, and dates"
   ]
  },
  {
   "cell_type": "markdown",
   "id": "38d369b3-c57d-45ff-a044-5869ab62e1b7",
   "metadata": {},
   "source": [
    "## There are few versions of .NET\n",
    "* ## .NET Framework is the original version of .NET that runs on windows.\n",
    "* ## .NET COre is the new, cross-platform that runs on Win, Mac and Linux os. "
   ]
  },
  {
   "cell_type": "markdown",
   "id": "675b6577-e829-41f1-bb6f-8615fb83b090",
   "metadata": {},
   "source": [
    "# What about ASP.NET ? \n",
    "## If we want to build programs specifically for the web you need to add more tools on top of .NET. one of the most popular is ASP.NET\n",
    "## To keep them separate, we say that:\n",
    "* ## .NET is the _platform_\n",
    "* ## ASP is the _framework_\n",
    "\n",
    "So, ASP.NET is something that goes on top of .NET to build a specific type of program: web apps and services. “Web apps” and “web services” are involved in nearly everything that you encounter on the internet. Web sites, e-mail, downloading an app on your phone, anything that deals with HTTP requests and responses — those all use some kind of web app or web service."
   ]
  },
  {
   "cell_type": "markdown",
   "id": "470f7875-fd7d-4927-811a-b2d0e7864356",
   "metadata": {},
   "source": [
    "# Tools included in ASP.NET\n",
    "* ## base framework for processing web requests in C# or F#\n",
    "* ## A front-end syntax, known as Razor, for building dynamic web pages using C#\n",
    "* ## Libraries for common web **_patterns_**, such as Model View Controller [MVC](https://www.codecademy.com/articles/mvc) \n",
    "* ## Authentication system that includes libraries, a database, and template pages for handling logins\n",
    "* ## Editor extensions to provide syntax highlighting, code completion, and other functionality specifically for developing web pages"
   ]
  }
 ],
 "metadata": {
  "kernelspec": {
   "display_name": ".NET (C#)",
   "language": "C#",
   "name": ".net-csharp"
  },
  "language_info": {
   "file_extension": ".cs",
   "mimetype": "text/x-csharp",
   "name": "C#",
   "pygments_lexer": "csharp",
   "version": "8.0"
  }
 },
 "nbformat": 4,
 "nbformat_minor": 5
}
