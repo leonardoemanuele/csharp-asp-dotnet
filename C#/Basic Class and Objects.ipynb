{
 "cells": [
  {
   "cell_type": "markdown",
   "id": "867fdf80-14c4-4999-aeaf-a8f32d1f8f47",
   "metadata": {},
   "source": [
    "1. # CLASS & OBJECTS"
   ]
  },
  {
   "cell_type": "markdown",
   "id": "d896326d-ad74-4615-ba91-175f860c38b2",
   "metadata": {},
   "source": [
    "## In C#, a **_custom data_ type is defined with a _class_** and **_each instance of this type is an object_**\n"
   ]
  },
  {
   "cell_type": "markdown",
   "id": "8e85dc53-b1d4-473e-9d9d-64b14ced4bfa",
   "metadata": {},
   "source": [
    "* ## STRUCT are similar to CLASS \n",
    "https://docs.microsoft.com/en-us/dotnet/csharp/language-reference/builtin-types/struct\n",
    "## Struct types is typically used to design small data-centric types that provide little or no behaviour.\n",
    "### For example, Struct are used in .NET to represent a number, a boolean value, a Unicode charachter, a **_time instance_**.\n"
   ]
  },
  {
   "cell_type": "markdown",
   "id": "d651dfb3-e81a-4906-8c9a-24e0713289cd",
   "metadata": {},
   "source": [
    "### _If you are focusing on the behavior of a type consider defining a CLASS_"
   ]
  },
  {
   "cell_type": "markdown",
   "id": "9fd4e49a-fd2d-42b1-a7af-577f17810062",
   "metadata": {},
   "source": [
    "2. #  Making Classes"
   ]
  },
  {
   "cell_type": "code",
   "execution_count": 1,
   "id": "bb2eb504-0d7b-4f69-8b83-960a84d62466",
   "metadata": {},
   "outputs": [
    {
     "name": "stdout",
     "output_type": "stream",
     "text": [
      "7\n",
      "4\n"
     ]
    }
   ],
   "source": [
    "string phrase = \"zoinks!\";\n",
    "Console.WriteLine(phrase.Length);\n",
    "Console.WriteLine(phrase.IndexOf(\"k\"));"
   ]
  },
  {
   "cell_type": "markdown",
   "id": "97226533-7d88-42e2-ad40-5ec832d627c2",
   "metadata": {},
   "source": [
    "### In this case, _**phrase** is an instance of the \"class\" **string**_\n",
    "### Every instance of the class _string_ has a _lenght property_ and a **method** _IndexOf_ "
   ]
  },
  {
   "cell_type": "markdown",
   "id": "3350a3d6-177f-40f7-88da-84e95416a723",
   "metadata": {
    "tags": []
   },
   "source": [
    "## A class represents a data type. \n",
    "### In C#, the class defines the _kind of information and methods included in a a **custom type**_ "
   ]
  },
  {
   "cell_type": "markdown",
   "id": "88b6074b-3f9c-40c5-97fb-61be6d25bcd3",
   "metadata": {},
   "source": [
    "## The process of creating a new class is called \n",
    "## _**INSTANTIATION**_:"
   ]
  },
  {
   "cell_type": "markdown",
   "id": "27651304-516e-4a47-8fa6-61722340b630",
   "metadata": {},
   "source": [
    "### To begin defining a class in C#:"
   ]
  },
  {
   "cell_type": "code",
   "execution_count": null,
   "id": "d6bbcfc5-5c39-4d26-b113-19388bb4e146",
   "metadata": {},
   "outputs": [],
   "source": [
    "class Forest{\n",
    "}"
   ]
  },
  {
   "cell_type": "markdown",
   "id": "3b8f23b9-8be2-4a93-94cd-827afa2f6246",
   "metadata": {},
   "source": [
    "## The code for a class is usually put into a file on its own, named with the name of the class\n",
    "## In this case, **_Forest.cs_**"
   ]
  },
  {
   "cell_type": "markdown",
   "id": "762c55ce-f668-4b36-b4cb-fb5165913897",
   "metadata": {},
   "source": [
    "### In other parts of code, like Main() in Program.cs we can use the class, making instances, or _objects_ of the class _Forest_, using the **new** _keyword_"
   ]
  },
  {
   "cell_type": "code",
   "execution_count": null,
   "id": "a9e3ed56-8b8f-4a07-a24b-c40254d6ee31",
   "metadata": {},
   "outputs": [],
   "source": [
    "Forest f = new Forest();"
   ]
  },
  {
   "cell_type": "markdown",
   "id": "7b48ef2c-ee07-4f62-af8b-2637c8cd1278",
   "metadata": {},
   "source": [
    "### We could say: \"_**f** is of type Forest_\""
   ]
  },
  {
   "cell_type": "markdown",
   "id": "562e68a6-2ac4-4368-a5c0-3ad20f1e4b39",
   "metadata": {},
   "source": [
    "# FIELDS\n",
    "## We need to associate different pieces of data of data, like a size and a ma,e to each _Forest_\n"
   ]
  },
  {
   "cell_type": "markdown",
   "id": "cd1d3fde-22dc-4b16-9281-5f3f38409fa0",
   "metadata": {},
   "source": [
    "## In C# this pieces of data arre called _fields_. Fields are one **type of class _member_** which is the general term for the building blocks of a class. "
   ]
  },
  {
   "cell_type": "code",
   "execution_count": null,
   "id": "f423af8a-bb9e-4d42-952e-29003f995fc4",
   "metadata": {},
   "outputs": [],
   "source": [
    "class Forest {\n",
    "  public string name; //has a name\n",
    "  public int trees;  //number of trees\n",
    "}"
   ]
  },
  {
   "cell_type": "markdown",
   "id": "0f32b0d3-08c3-4a98-b887-6a48e471d9ae",
   "metadata": {},
   "source": [
    "### Each fields is a variable and _**It WILL HAVE A DIFFERENT VALUE FOR EACH OBJECT FOREST**_"
   ]
  },
  {
   "cell_type": "markdown",
   "id": "b0bf6658-62da-4a60-81dc-d18489149d38",
   "metadata": {},
   "source": [
    "### It si common practice to names field with _lowercase name. This makes field easy to recognize later on_ "
   ]
  },
  {
   "cell_type": "markdown",
   "id": "c4b969e8-6e9d-4047-8a5a-6ec0c4a314e7",
   "metadata": {},
   "source": [
    "### Once we create a _Forest_ instance we can _access and edit each field with **dot notation**_"
   ]
  },
  {
   "cell_type": "code",
   "execution_count": null,
   "id": "34aa2614-726f-4b7f-8d06-55eafc5921e4",
   "metadata": {},
   "outputs": [],
   "source": [
    "Forest f = new Forest();\n",
    "f.name = \"Amazon\";\n",
    "Console.WriteLine(f.name);\n",
    "\n",
    "Forest f2 = new Forest();\n",
    "f2.name = \"Congo\";\n",
    "Console.WriteLine(f2.name);"
   ]
  },
  {
   "cell_type": "markdown",
   "id": "3181a481-6f5b-45ee-912c-476756fdef4b",
   "metadata": {},
   "source": [
    "# PROPERTIES\n",
    "## We need a way to define what values are valid and _disallow_ those that are not. \n",
    "### C# provides a tool for that: **_Properties_**"
   ]
  },
  {
   "cell_type": "markdown",
   "id": "fc9671eb-1079-4ae4-b7ce-3999ed71d07b",
   "metadata": {},
   "source": [
    "## A Property is made up of two methods:\n",
    "* ## **_get()_** method, or **_getter_**: called when the property is accessed;\n",
    "* ## **_set()_** method, or **_setter_**: called when the property is assigned a value:"
   ]
  },
  {
   "cell_type": "code",
   "execution_count": null,
   "id": "2daf919e-4689-42af-9327-6b38aee1354b",
   "metadata": {},
   "outputs": [],
   "source": [
    "public int area;\n",
    "public int Area\n",
    "{\n",
    "  get { return area; }\n",
    "  set { area = value; }\n",
    "}"
   ]
  },
  {
   "cell_type": "markdown",
   "id": "d782169f-db38-436a-85d4-8c8b58a883a0",
   "metadata": {},
   "source": [
    "* # The **_Area_** _Property_ is associated with the **_area_** _field_"
   ]
  },
  {
   "cell_type": "markdown",
   "id": "e845cdb8-bcfc-4d74-b4d7-638617d9e81d",
   "metadata": {},
   "source": [
    "* # The set() method uses the _keyword_ **value**, which represent the value we assign to the property.  "
   ]
  },
  {
   "cell_type": "code",
   "execution_count": null,
   "id": "f0261dd0-22d0-4232-a2d3-82ecab9609f2",
   "metadata": {},
   "outputs": [],
   "source": [
    "Forest f = new Forest();\n",
    "f.Area = -1; #// set() is called\n",
    "Console.WriteLine(f.Area); #// get() is called; prints -1"
   ]
  },
  {
   "cell_type": "markdown",
   "id": "530c3f10-b15b-49c5-82d8-bed9c82e77a7",
   "metadata": {},
   "source": [
    "* ## In the exampke above,the property _Area_ is accessed; when _set()_ is called, the _**value**_ _variable_ is **-1**, so area is set to -1"
   ]
  },
  {
   "cell_type": "markdown",
   "id": "6ec98199-2038-44d1-88c0-eb471fd01fa2",
   "metadata": {},
   "source": [
    "## Down below the same propery _Area_ with the **validation** in the _set()_ method: If we try to enter a negative _value_ for the area, it will be changed to zero."
   ]
  },
  {
   "cell_type": "code",
   "execution_count": null,
   "id": "7243c108-1a31-4ab6-854d-3886c211ad97",
   "metadata": {},
   "outputs": [],
   "source": [
    "public int Area{\n",
    "    get {return area;}\n",
    "    set{\n",
    "    if(value < 0){\n",
    "    area = 0;}\n",
    "    else{area = value;}\n",
    "    }\n",
    "}"
   ]
  },
  {
   "cell_type": "markdown",
   "id": "952a57db-fc6c-4926-8e7e-1baabc2e4eff",
   "metadata": {},
   "source": [
    "# Automatic Properties\n",
    "## It might have felt tedious to write the same getter and setter for the Name and Trees properties.\n"
   ]
  },
  {
   "cell_type": "markdown",
   "id": "55cc3797-425e-4d9f-85d1-0c2a528f0f7a",
   "metadata": {},
   "source": [
    "## The basic getter and setter pattern is so common that there is a short-hand called **_automatic properties_**"
   ]
  },
  {
   "cell_type": "code",
   "execution_count": null,
   "id": "3be659dc-1776-4351-8964-486fa9052ec5",
   "metadata": {},
   "outputs": [],
   "source": [
    "public string size;\n",
    "public string Size\n",
    "{\n",
    "  get { return size; }\n",
    "  set { size = value; }\n",
    "}"
   ]
  },
  {
   "cell_type": "markdown",
   "id": "4a3ef5db-2630-4ff9-9a79-fd6fb7587775",
   "metadata": {},
   "source": [
    "* ### After"
   ]
  },
  {
   "cell_type": "code",
   "execution_count": null,
   "id": "11b540c0-3cff-45e9-a01f-ff6a117856ef",
   "metadata": {},
   "outputs": [],
   "source": [
    "public string Size\n",
    "{ get; set; }"
   ]
  },
  {
   "cell_type": "markdown",
   "id": "84b35702-a8ea-4fc7-ab3f-39e03480f664",
   "metadata": {},
   "source": [
    "### In this way you don't have to write the get and set, and ALSO"
   ]
  },
  {
   "cell_type": "markdown",
   "id": "4420a04c-914e-4ba1-aa61-c0c82f80e313",
   "metadata": {},
   "source": [
    "# You dont have to define a **_field_** _size_\n",
    "## A hidden field is defined in the background for us.\n",
    "## All we have to worry is the Size Property"
   ]
  },
  {
   "cell_type": "markdown",
   "id": "6433ad12-e456-4f3a-bae4-1eda99f13805",
   "metadata": {
    "tags": []
   },
   "source": [
    "# PUBLIC vs PRIVATE"
   ]
  },
  {
   "cell_type": "markdown",
   "id": "dda1d1f3-920e-4334-9066-9ab3d31af430",
   "metadata": {},
   "source": [
    "### As it is now, any code outside of the _Forest_ class can _sneak past_ our propoerties by directly accessing the field:"
   ]
  },
  {
   "cell_type": "code",
   "execution_count": null,
   "id": "ae1c0b31-3436-4835-944f-894ef5c126ed",
   "metadata": {},
   "outputs": [],
   "source": [
    "f.Age = 32; #using property\n",
    "f.age = -1; # using field"
   ]
  },
  {
   "cell_type": "markdown",
   "id": "0bcd361e-a8db-4170-b5c0-7351709233c2",
   "metadata": {},
   "source": [
    "## The second line _avoids_ the _property's validation_ by **directly accessing the _field_** "
   ]
  },
  {
   "cell_type": "markdown",
   "id": "2e2e9cae-bcbc-4f31-9019-0018d3b289a5",
   "metadata": {},
   "source": [
    "## We can fix this by using the **_access modifier, public and private_** "
   ]
  },
  {
   "cell_type": "markdown",
   "id": "40ccd21d-b7dd-4df0-888a-97ee8a1867cd",
   "metadata": {},
   "source": [
    "* ## **_Public_**: a public **_member_** can be accessed by **any class**;\n",
    "* ## **_Private_**: a private **_memeber_** can be accessed **only by code in the same**;"
   ]
  },
  {
   "cell_type": "markdown",
   "id": "a921217b-e6c5-418f-b929-e9ee68cb230d",
   "metadata": {},
   "source": [
    "### When we switch a member from public to private, it will no longer be accessible from the _Main()_"
   ]
  },
  {
   "cell_type": "markdown",
   "id": "a98c865b-0ce5-4866-b66a-5716c84d603b",
   "metadata": {},
   "source": [
    "### Public and Private are necessary to _**ENCAPSULATE**_ our classes\n",
    "https://en.wikipedia.org/wiki/Encapsulation_(computer_programming)"
   ]
  },
  {
   "cell_type": "markdown",
   "id": "85e2cc48-c190-4d9a-94ac-e626e5c85d7b",
   "metadata": {},
   "source": [
    "### We are protecting the inner mechanisms of a class with _private_ so that other code can't break your class. You only _expose_ what you want to be _public_"
   ]
  },
  {
   "cell_type": "markdown",
   "id": "60892c51-886a-493d-9113-9eab506f042b",
   "metadata": {},
   "source": [
    "## Since class's porpoerties define how other programs _get_ and _set_ its _fields_, its good practice to make \n",
    "* ## **fields _private_**  \n",
    "* ## **Properties _public_**"
   ]
  },
  {
   "cell_type": "markdown",
   "id": "59ab1b09-3c99-4701-a58a-baf1ceb9233c",
   "metadata": {},
   "source": [
    "# Get-Only Properties\n",
    "\n",
    "### For example, we want other programs to _get_ the value of the property, but we  don't want them to _set_ the value of the propery. We can either :"
   ]
  },
  {
   "cell_type": "markdown",
   "id": "586fc60a-0738-413e-8549-720ce8c1a29d",
   "metadata": {
    "tags": []
   },
   "source": [
    "1. ### dont include the _set()_ method or "
   ]
  },
  {
   "cell_type": "code",
   "execution_count": null,
   "id": "9e17c2d4-4ff2-4e22-bff1-33d3ba54d38c",
   "metadata": {},
   "outputs": [],
   "source": [
    "public string Area\n",
    "{\n",
    "  get { return area; }\n",
    "}"
   ]
  },
  {
   "cell_type": "markdown",
   "id": "f73490cd-f02e-4764-9adc-bdbb1cc8d396",
   "metadata": {},
   "source": [
    "2. ### make the _set()_ method private."
   ]
  },
  {
   "cell_type": "code",
   "execution_count": null,
   "id": "99f224ad-694f-4c6d-bb6f-d871f1096a84",
   "metadata": {},
   "outputs": [],
   "source": [
    "public int Area\n",
    "{\n",
    "  get { return area; }\n",
    "  private set { area = value; }  \n",
    "}"
   ]
  },
  {
   "cell_type": "markdown",
   "id": "a4a77e1f-e227-4ed3-9a2d-371dc16ff625",
   "metadata": {},
   "source": [
    "### In approach 1. we get an error for setting the Area from _anywhere_, because the method does not exist.  "
   ]
  },
  {
   "cell_type": "markdown",
   "id": "2f5bc5df-5893-482f-916f-ed69e8c56f14",
   "metadata": {},
   "source": [
    "### In approach 2. we only get an error for setting the Area _outside the Forest Class_. "
   ]
  },
  {
   "cell_type": "markdown",
   "id": "3c27ccbc-b0cb-4dc0-875e-a81419c9c108",
   "metadata": {},
   "source": [
    "### Generally **Approach 2** is preferred as it allows other Forest _methods_ to set Area "
   ]
  },
  {
   "cell_type": "markdown",
   "id": "53d993cc-fde9-4ea0-a55b-cb22627a31b5",
   "metadata": {},
   "source": [
    "# METHODS\n",
    "### The third type of member in classes is _methods_.\n",
    "### Methods are also used to define **_how an instance of a class behaves_**"
   ]
  },
  {
   "cell_type": "markdown",
   "id": "3f998ea5-569e-47ff-80c4-82dd104310d3",
   "metadata": {},
   "source": [
    "#### Action that an object can perform"
   ]
  },
  {
   "cell_type": "markdown",
   "id": "6573a0b5-1511-478b-8483-3720ba089bc9",
   "metadata": {},
   "source": [
    "### For example, this code defines a method IncreaseArea() inside the class Forest, that changes the value of the _Area Property_"
   ]
  },
  {
   "cell_type": "code",
   "execution_count": null,
   "id": "7d9217be-4350-4004-9ced-c8d00adbc00b",
   "metadata": {},
   "outputs": [],
   "source": [
    "class Forest {\n",
    "  public int Area\n",
    "  { #/* property body omitted \n",
    "  }\n",
    "  public int IncreaseArea(int growth)\n",
    "  {\n",
    "    Area = Area + growth;\n",
    "    return Area;\n",
    "  }\n",
    "}"
   ]
  },
  {
   "cell_type": "markdown",
   "id": "54acf0c4-c4d3-4414-9638-c72519beaed0",
   "metadata": {},
   "source": [
    "### You would call the method like so:"
   ]
  },
  {
   "cell_type": "code",
   "execution_count": null,
   "id": "cfaaddbc-a912-4517-9883-5217e1ff60f1",
   "metadata": {},
   "outputs": [],
   "source": [
    "Forest f = new Forest();\n",
    "int result = f.IncreaseArea(2);\n",
    "Console.WriteLine(result); #Prints 2"
   ]
  },
  {
   "cell_type": "markdown",
   "id": "83d624bc-defb-4031-8aaf-0a95c9519946",
   "metadata": {},
   "source": [
    "# CONSTRUCTORS"
   ]
  },
  {
   "cell_type": "markdown",
   "id": "3846c5e5-4193-4cf4-acd0-385837c97787",
   "metadata": {},
   "source": [
    "### So far we have new Forest object and set the property values one by one."
   ]
  },
  {
   "cell_type": "markdown",
   "id": "427e224a-34da-4d96-8e72-740dbfd169a6",
   "metadata": {},
   "source": [
    "### C# has a special type of method called _**Constructor**_\n",
    "### It looks like a method but there is no return type, and the name is the _same of its enclosing class_ "
   ]
  },
  {
   "cell_type": "code",
   "execution_count": null,
   "id": "90fc34c9-2427-42de-a886-3e62b643de3d",
   "metadata": {},
   "outputs": [],
   "source": [
    "class Forest \n",
    "{\n",
    "  public Forest(int area)\n",
    "  {\n",
    "      Area = area;\n",
    "  }\n",
    "}"
   ]
  },
  {
   "cell_type": "markdown",
   "id": "817b5a1c-f6ab-4997-84d3-41d7bffc402b",
   "metadata": {},
   "source": [
    "### This constructor method is used whenever we instantiate an object with the **_new_** keyword"
   ]
  },
  {
   "cell_type": "markdown",
   "id": "a17a0912-bc7e-4cb2-955e-8c468b603ed5",
   "metadata": {},
   "source": [
    "#### Forest f = new Forest(400);"
   ]
  },
  {
   "cell_type": "markdown",
   "id": "f6819fe2-d6cc-42f0-8b59-75ac4b00d158",
   "metadata": {},
   "source": [
    "## If no constructor is defined in a class, one is automatically created for us.It takes no parameter, so it's called a _**parametherless constructor**_"
   ]
  },
  {
   "cell_type": "markdown",
   "id": "5fe6820b-28bf-4017-b472-bc0d27b8f740",
   "metadata": {},
   "source": [
    "Forest f = new Forest();"
   ]
  },
  {
   "cell_type": "markdown",
   "id": "17f6d916-58fc-4093-9962-ccea43b8d9c3",
   "metadata": {},
   "source": [
    "# THIS\n",
    "\n",
    "## The parameter of the constructor _area_ looks a lot like the old **field** _area_ and the new Property _Area_"
   ]
  },
  {
   "cell_type": "markdown",
   "id": "151b9b5a-e1d8-48c0-a4e6-c10fab120528",
   "metadata": {},
   "source": [
    "### Is good to be explicit when writing code so that there is no room for misinterpretation, "
   ]
  },
  {
   "cell_type": "markdown",
   "id": "71026723-3545-40a3-9e34-c25f70ad673e",
   "metadata": {},
   "source": [
    "## We can refer to the current instance of a class with **_this_** keyword"
   ]
  },
  {
   "cell_type": "code",
   "execution_count": null,
   "id": "3653b255-d483-4157-93dc-e80b6ce9b76a",
   "metadata": {},
   "outputs": [],
   "source": [
    "class Forest\n",
    "{\n",
    "  public int Area\n",
    "  { /* property omitted */ }\n",
    " \n",
    "  public Forest(int area)\n",
    "  {\n",
    "    this.Area = area;\n",
    "  }\n",
    "}"
   ]
  },
  {
   "cell_type": "markdown",
   "id": "2299da5e-9daa-4045-8408-99da1ddbe137",
   "metadata": {},
   "source": [
    "## **this.Area = area** means _\"when this constructor is used to make a new instance, use the argument **area** to set the value of this new instances's Area field\"_"
   ]
  },
  {
   "cell_type": "code",
   "execution_count": null,
   "id": "982bacb5-7ffe-4ce7-865c-5561dc3affe7",
   "metadata": {},
   "outputs": [],
   "source": [
    "Forest f = new Forest(400);"
   ]
  },
  {
   "cell_type": "markdown",
   "id": "45428c2d-f97f-45df-968d-1453de8420cd",
   "metadata": {},
   "source": [
    "## f.Area now equals 400"
   ]
  },
  {
   "cell_type": "markdown",
   "id": "9db70bda-1785-4b37-aa5b-a9f4f6efee84",
   "metadata": {},
   "source": [
    "## The _class/blueprint_ has to use the generic _**this**_ because class/blueprint is going to be reused for every other _instance/house_"
   ]
  },
  {
   "cell_type": "markdown",
   "id": "3cd28fd6-d0d0-4dbb-b130-065547a76f54",
   "metadata": {},
   "source": [
    "# OVERLOADING CONSTRUCTORS"
   ]
  },
  {
   "cell_type": "markdown",
   "id": "021e3a22-4710-47e8-9738-65b4b978d0b4",
   "metadata": {
    "tags": []
   },
   "source": [
    "### Just like other methods, constructors can be overloaded. For example, we may want to define an additional constructor that takes different arguments"
   ]
  },
  {
   "cell_type": "markdown",
   "id": "1d62af2e-4b52-4740-9657-50d9c9fe1a5b",
   "metadata": {},
   "source": [
    "* 1st constructor - 2 arguments"
   ]
  },
  {
   "cell_type": "code",
   "execution_count": null,
   "id": "7bb95aff-5224-4dbe-b9bb-9ff346f44a8c",
   "metadata": {},
   "outputs": [],
   "source": [
    "public Forest(int area, string country)\n",
    "{ \n",
    "  this.Area = area;\n",
    "  this.Country = country;\n",
    " }"
   ]
  },
  {
   "cell_type": "markdown",
   "id": "5c40efcd-eca0-4dea-8368-d084014389ee",
   "metadata": {},
   "source": [
    "* 2nd constructor - 1 argument"
   ]
  },
  {
   "cell_type": "code",
   "execution_count": null,
   "id": "1500bd2c-f85c-4ec1-b58e-10a9172ae4ae",
   "metadata": {},
   "outputs": [],
   "source": [
    " \n",
    "public Forest(int area)\n",
    "{ \n",
    "  this.Area = area;\n",
    "  this.Country = \"Unknown\";\n",
    "}"
   ]
  },
  {
   "cell_type": "code",
   "execution_count": null,
   "id": "c38980ee-5097-474f-a557-0602857f615a",
   "metadata": {},
   "outputs": [],
   "source": [
    "Forest f = new Forest(800, \"Africa\");\n",
    "Forest f2 = new Forest(400);"
   ]
  },
  {
   "cell_type": "markdown",
   "id": "c1123300-3240-40bb-a9ce-a2ea6f9ddb34",
   "metadata": {},
   "source": [
    "# We have written duplicated code...\n",
    "## Later on, if we need to adjust the constructor, we will need to find every copy of the code and make the exact same change"
   ]
  },
  {
   "cell_type": "markdown",
   "id": "f1d5a038-812c-430b-8db6-f8041a248d7d",
   "metadata": {},
   "source": [
    "## We have two options to resolve this. In either case we will remove the duplicated code:"
   ]
  },
  {
   "cell_type": "markdown",
   "id": "426ad03e-c989-45d9-90cf-db6ac6b560d5",
   "metadata": {},
   "source": [
    "* 1. ## **Use default arguments** - = \"Default\""
   ]
  },
  {
   "cell_type": "code",
   "execution_count": null,
   "id": "1eff123f-3717-4532-a521-b03e67ae9683",
   "metadata": {},
   "outputs": [],
   "source": [
    "public Forest(int area, string country = \"Unknown\")\n",
    "{\n",
    "  this.Area = area;\n",
    "  this.Country = country;\n",
    "}"
   ]
  },
  {
   "cell_type": "markdown",
   "id": "b7adb588-7517-409c-9e87-9b2ae4beba54",
   "metadata": {},
   "source": [
    "* 2. ## **Use : this()** - This is useful for old C# programs(before 4.0) and when your second constructor has additional functionality."
   ]
  },
  {
   "cell_type": "code",
   "execution_count": null,
   "id": "33708415-fb22-4e2c-bfe6-ad4ad7999bf8",
   "metadata": {},
   "outputs": [],
   "source": [
    "public Forest(int area, string country)\n",
    "{ \n",
    "  this.Area = area;\n",
    "  this.Country = country;\n",
    "}\n",
    " \n",
    "public Forest(int area) : this(area, \"Unknown\")\n",
    "{ \n",
    "  Console.WriteLine(\"Country property not specified. Value defaulted to 'Unknown'.\");\n",
    "}"
   ]
  },
  {
   "cell_type": "markdown",
   "id": "dce2c0d4-40b4-4814-a02f-6700bb6ede5f",
   "metadata": {},
   "source": [
    "### Remember that _this.Area_ refers to the current instance of class. \n",
    "## When we use _**this()**_ like a method, it refers to another constructor in the current class."
   ]
  },
  {
   "cell_type": "markdown",
   "id": "168eed6a-989b-4956-b8d4-8fd3f85b4e37",
   "metadata": {},
   "source": [
    "### In this example, the second constructor call _this()_ which refer to the first _Forest()_ constructor - AND it prints information to the console."
   ]
  },
  {
   "cell_type": "markdown",
   "id": "113819dd-d7b9-439e-804c-c388767cecb7",
   "metadata": {},
   "source": [
    "### EXAMPLE"
   ]
  },
  {
   "cell_type": "markdown",
   "id": "19f8d10b-8580-4b9a-9f89-85bcb87e484d",
   "metadata": {},
   "source": [
    "\"Player named: n/a \""
   ]
  },
  {
   "cell_type": "code",
   "execution_count": null,
   "id": "a14037a8-b5be-4c86-9620-bae0b68ea0a7",
   "metadata": {
    "tags": []
   },
   "outputs": [],
   "source": [
    "class Program {\n",
    "  public static void Main (string[] args) {\n",
    "    Player p = new Player();\n",
    "  }\n",
    "}\n",
    " \n",
    "class Player\n",
    "{\n",
    "  public Player(string name)\n",
    "  {\n",
    "    Console.WriteLine($\"Player named: {name}\");\n",
    "  }\n",
    " \n",
    "  public Player() : this(\"n/a\")\n",
    "  {}\n",
    "}\n",
    " "
   ]
  },
  {
   "cell_type": "markdown",
   "id": "e51ade9a-3d57-4e3a-b024-71ad7c3e222d",
   "metadata": {},
   "source": [
    "# Introduction to Static\n",
    "* ### A custom data type is defined by **_class_**\n",
    "* ### An instance of a class is an object. Multiple objects can be _instantiated_ from on class\n",
    "* ### This process of bundling related data and methods into a type is called **encapsulation** and it makes code easier to organize and reuse\n",
    "# What if we neededed to do something related to the type itself, not instances of that type? \n",
    "## For example, where do we store the count of the total objects created, or an explenation of the class in general?"
   ]
  },
  {
   "cell_type": "markdown",
   "id": "a86384d6-5fe7-43c5-9e8c-3838b67d0106",
   "metadata": {},
   "source": [
    "## This are information associated with the Class itself, and not with the instances of the class.\n",
    "## We call this types of members _static_"
   ]
  },
  {
   "cell_type": "code",
   "execution_count": null,
   "id": "64ebcb98-d753-4b7b-ac7f-fe1cdf84719b",
   "metadata": {},
   "outputs": [],
   "source": [
    "class Forest\n",
    "{\n",
    "  private string definition;\n",
    "  public string Definition\n",
    "  {\n",
    "     get { return definition; }\n",
    "     set { definition = value; }\n",
    "   }\n",
    "}"
   ]
  },
  {
   "cell_type": "markdown",
   "id": "014775c9-1a6f-40a3-91b3-875099000a78",
   "metadata": {},
   "source": [
    "### The _definition_ of what a class  _Forest_ is applies to all instances of the class. \n",
    "### This is a good use case for a static **_field/Property_**"
   ]
  },
  {
   "cell_type": "markdown",
   "id": "8257f2a5-0c54-4e12-85b5-8d36ab786192",
   "metadata": {},
   "source": [
    "## To make a **static _field_** and _**Property**_ just add _static_ after the access modifier:"
   ]
  },
  {
   "cell_type": "code",
   "execution_count": null,
   "id": "b37a7225-6ff8-48d4-ba6c-ccb25ded1d0a",
   "metadata": {},
   "outputs": [],
   "source": [
    "class Forest\n",
    "{\n",
    "  private static string definition;\n",
    "  public static string Definition\n",
    "  { \n",
    "    get { return definition; }\n",
    "    set { definition = value; }\n",
    "  }\n",
    "}"
   ]
  },
  {
   "cell_type": "markdown",
   "id": "68156dcf-40d7-4bab-aa54-c0fd924f4e3b",
   "metadata": {},
   "source": [
    "## Remeber that _static_ means **associated with the class not with the instance**"
   ]
  },
  {
   "cell_type": "markdown",
   "id": "b015427d-000f-4014-89c3-4391278cf1eb",
   "metadata": {},
   "source": [
    "# If you try to access a static member from an instance (like f.Definition) you would get an error like:  "
   ]
  },
  {
   "cell_type": "markdown",
   "id": "dc736cea-d9f6-4cde-9926-f8459522b3ff",
   "metadata": {},
   "source": [
    "error CS0176: Static member 'Forest.Definition' cannot be accessed with an instance reference, qualify it with a type name instead"
   ]
  },
  {
   "cell_type": "code",
   "execution_count": null,
   "id": "d5b0f2a9-5f16-44dd-a473-782f3763b1af",
   "metadata": {},
   "outputs": [],
   "source": [
    "class Forest\n",
    "{\n",
    "  private static string definition;\n",
    "  public static void Define()    \n",
    "  {\n",
    "    Console.WriteLine(definition);\n",
    "  }\n",
    "}"
   ]
  },
  {
   "cell_type": "markdown",
   "id": "5c8131f4-21c6-4c4f-8b79-307d9ce39f85",
   "metadata": {},
   "source": [
    "## Notice that we make both _field_ and _method Define_ **static**, because static methods **can only access other static members**"
   ]
  },
  {
   "cell_type": "markdown",
   "id": "9b2c2db9-8f23-44e6-80b5-af0577e534c0",
   "metadata": {},
   "source": [
    "# Static Constructors"
   ]
  },
  {
   "cell_type": "markdown",
   "id": "d363a8d9-d56e-4ab4-91bf-c4da438a52d2",
   "metadata": {},
   "source": [
    "### An instance constructor is run before an instance is used and a **_static constructor_ is run once before a class is used**"
   ]
  },
  {
   "cell_type": "code",
   "execution_count": null,
   "id": "6c066478-682e-451c-aaa5-22ac3ae0cc67",
   "metadata": {},
   "outputs": [],
   "source": [
    "class Forest \n",
    "{\n",
    "  static Forest()\n",
    "  { /* ... */ }\n",
    "}"
   ]
  },
  {
   "cell_type": "markdown",
   "id": "4fb7dcc8-c694-4d92-8500-e6f81d4d0ffd",
   "metadata": {},
   "source": [
    "### This constructor is run when either one of these events occurs:\n",
    "* ## Before an object is made from the type\n",
    "* ## Before a static member is accessed"
   ]
  },
  {
   "cell_type": "markdown",
   "id": "3fb6f361-7798-4ab6-bb77-cd5f2cc3c25b",
   "metadata": {},
   "source": [
    "### Typically we use static constructors to set values to static fields and properties."
   ]
  },
  {
   "cell_type": "markdown",
   "id": "5a99f43e-8d05-47d9-a0e1-e812eabf7fcd",
   "metadata": {},
   "source": [
    "# A static constructor does not accept an access modifier"
   ]
  },
  {
   "cell_type": "markdown",
   "id": "a41045c7-7f6f-4d38-a650-6c8d016d6ea2",
   "metadata": {},
   "source": [
    "# STATIC CLASSES\n",
    "### We covered a few static members: \n",
    "* ### Fields\n",
    "* ### Properties\n",
    "* ### Methods\n",
    "* ### Constructors\n",
    "### What if we made the _whole_ class static?"
   ]
  },
  {
   "cell_type": "code",
   "execution_count": null,
   "id": "ef020626-9dc7-4897-a8c6-131321a56db3",
   "metadata": {},
   "outputs": [],
   "source": [
    "static class Forest {}"
   ]
  },
  {
   "cell_type": "markdown",
   "id": "16701eeb-9122-44fb-9b6b-f678313146d1",
   "metadata": {},
   "source": [
    "## A static class **cannot be instantiated**, so you only want to do this if you are making a _utility_ or _library_, like _Math_ or _Console_"
   ]
  },
  {
   "cell_type": "markdown",
   "id": "a26f4799-7d00-483a-8320-25e084d2d13a",
   "metadata": {},
   "source": [
    "## These two common classes are static because they are _just tools_, they dont need specific instances and they dont store new information."
   ]
  },
  {
   "cell_type": "code",
   "execution_count": null,
   "id": "fdf39bca-9458-4939-8564-fcdf87fa4c4f",
   "metadata": {},
   "outputs": [],
   "source": [
    "Math.Min(34, 54);\n",
    "Console.WriteLine(\"yeehaw!\");"
   ]
  },
  {
   "cell_type": "markdown",
   "id": "73f27e0b-fb19-4b2b-b53d-6b4a4cdbf19c",
   "metadata": {},
   "source": [
    "# Common static errors"
   ]
  },
  {
   "cell_type": "markdown",
   "id": "c6daf59f-a095-4d1a-9ea1-024e7ed6191d",
   "metadata": {},
   "source": [
    "### This error usually means you labeled a static constructor as _public_ or _private_, which is not allowed"
   ]
  },
  {
   "cell_type": "markdown",
   "id": "226b2fff-77ba-4a27-9ca8-ea5e7fc25fe2",
   "metadata": {},
   "source": [
    "error CS0515: 'Forest.Forest()': static constructor cannot have an access modifier"
   ]
  },
  {
   "cell_type": "markdown",
   "id": "9a1582b7-24c2-45dc-8196-9c3c6b6b9063",
   "metadata": {},
   "source": [
    "### This usually means you tried to reference a non-static member from a class, instead of from an instance"
   ]
  },
  {
   "cell_type": "markdown",
   "id": "42ec769a-8b9b-429d-91ae-8973e4ea7fa9",
   "metadata": {},
   "source": [
    "error CS0120: An object reference is required to access non-static field, method, or property 'Forest.Grow()'"
   ]
  },
  {
   "cell_type": "markdown",
   "id": "9d39422b-3ee8-4a6c-97e4-ccd798d63527",
   "metadata": {},
   "source": [
    "### This usually means that you tried to reference a static member from an instance, instead of from the class:"
   ]
  },
  {
   "cell_type": "markdown",
   "id": "2e7508e0-c62f-4654-921d-b01da3b40581",
   "metadata": {},
   "source": [
    "error CS0176: Member 'Forest.TreeFacts' cannot be accessed with an instance reference; qualify it with a type name instead"
   ]
  },
  {
   "cell_type": "markdown",
   "id": "54e52460-02ea-469f-9d63-9a9e26053c43",
   "metadata": {},
   "source": [
    "# MAIN\n",
    "### Entry point for any program. "
   ]
  },
  {
   "cell_type": "markdown",
   "id": "ea0d37c3-dcdc-49eb-8361-a6fc286531b0",
   "metadata": {},
   "source": [
    "* ## _Main():_ is a **_method_** of the _Program class_\n",
    "* ## _public:_ The method can be called outside the the _Program class_\n",
    "* ## _static:_ The method is called from the class name: Program.Main()\n",
    "* ## _void:_ The method means returns nothing\n",
    "* ## _string[] args:_ The method has one parameter named args, which is an array of srings"
   ]
  },
  {
   "cell_type": "markdown",
   "id": "5b1f550a-e557-4b12-9f23-e525e1fb7684",
   "metadata": {},
   "source": [
    "### _Main()_ is like any other method you've encountered!"
   ]
  },
  {
   "cell_type": "code",
   "execution_count": null,
   "id": "934e7d3e-5309-4a1d-8ad1-b2b469cd374e",
   "metadata": {},
   "outputs": [],
   "source": [
    "using System;\n",
    "\n",
    "namespace ApplyingClasses\n",
    "{\n",
    "  class Program\n",
    "  {\n",
    "    static void Main(string[] args)\n",
    "    {\n",
    "      if (args.Length > 0)\n",
    "      {\n",
    "        string mainPhrase = String.Join(\" and \", args);\n",
    "        Console.WriteLine($\"My favorite fruits are {mainPhrase}!\");\n",
    "      }\n",
    "\n",
    "      \n",
    "    }\n",
    "  }\n",
    "}"
   ]
  },
  {
   "cell_type": "code",
   "execution_count": null,
   "id": "f935e5c6-a1c1-42b6-b86f-c195976942fc",
   "metadata": {},
   "outputs": [],
   "source": [
    "$ dotnet run mango pineapple lychee"
   ]
  },
  {
   "cell_type": "markdown",
   "id": "ddafcd3c-1ef1-4cd3-8555-7c50f1afbd2e",
   "metadata": {},
   "source": [
    "My favorite fruits are mango and pineapple and lychee!"
   ]
  }
 ],
 "metadata": {
  "kernelspec": {
   "display_name": ".NET (C#)",
   "language": "C#",
   "name": ".net-csharp"
  },
  "language_info": {
   "file_extension": ".cs",
   "mimetype": "text/x-csharp",
   "name": "C#",
   "pygments_lexer": "csharp",
   "version": "8.0"
  }
 },
 "nbformat": 4,
 "nbformat_minor": 5
}
