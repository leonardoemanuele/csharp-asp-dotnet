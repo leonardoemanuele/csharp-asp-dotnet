{
 "cells": [
  {
   "cell_type": "markdown",
   "id": "ca058b11-324a-4166-81f1-909ddf6b2fdd",
   "metadata": {},
   "source": [
    "# Initialize a List with Object\n",
    "## Our first way to create a list took multiple lines:"
   ]
  },
  {
   "cell_type": "code",
   "execution_count": 1,
   "id": "4aa1b8f5-a3f7-4f8e-9259-b2123a30ba39",
   "metadata": {},
   "outputs": [],
   "source": [
    "List<string> citiesList = new List<string>(); //Calling constructor\n",
    "citiesList.Add(\"Delhi\");\n",
    "citiesList.Add(\"Los Angeles\");"
   ]
  },
  {
   "cell_type": "markdown",
   "id": "2f496c63-64a4-4bec-b75c-022ec3ffb2e7",
   "metadata": {},
   "source": [
    "## We can do it all in one line using **_Object Initialization_**"
   ]
  },
  {
   "cell_type": "code",
   "execution_count": null,
   "id": "de524aaa-ea8c-4922-a3b6-b278de0884c5",
   "metadata": {},
   "outputs": [],
   "source": [
    "List<string> citiesList2 = new List<string> { \"Delhi\", \"Los Angeles\" };"
   ]
  },
  {
   "cell_type": "markdown",
   "id": "a25e06bd-2ef4-4a9a-880b-d257dcd45090",
   "metadata": {},
   "source": [
    "# Clearing \n",
    "## If we need to remove all of the elements from a list, we could iterate through the entire list and call Remove(), but the easier way is to use the _Clear()_ method"
   ]
  },
  {
   "cell_type": "code",
   "execution_count": 2,
   "id": "066f356a-9769-42e2-b6d7-9fb522cdd5d8",
   "metadata": {},
   "outputs": [
    {
     "name": "stdout",
     "output_type": "stream",
     "text": [
      "0\n"
     ]
    }
   ],
   "source": [
    "List<string> citiesList = new List<string> { \"Delhi\", \"Los Angeles\", \"Kiev\" };\n",
    "citiesList.Clear();\n",
    " \n",
    "Console.WriteLine(citiesList.Count);"
   ]
  },
  {
   "cell_type": "markdown",
   "id": "549902ba-f91c-446e-8dea-ea3e4efa1cd6",
   "metadata": {},
   "source": [
    "# Working with ranges\n",
    "## Here are four common range-related methods:\n",
    "* ## _AddRange(List/Array)_ : takes an array or list as an argument. Add the values to the end of the list. Returns nothing\n",
    "* ## _InsertRange(index, List/Array)_ : takes an int index and an array or list. Adds the values at the int _index_\n",
    "* ## _RemoveRange(index, int numberElements)_ : first index is where the start and second int  is the number of elements to remove. Returns nothing.\n",
    "* ## _GetRange(index, int numberElements)_ : index is the first index of the desired element, the second int is the number of elements in the desired range. **_Returns a list of the same type_** \n",
    "\n",
    "https://docs.microsoft.com/en-us/dotnet/api/system.collections.generic.list-1?view=net-5.0"
   ]
  },
  {
   "cell_type": "code",
   "execution_count": 3,
   "id": "637d563e-a241-458d-98e8-54ce8b55728a",
   "metadata": {},
   "outputs": [],
   "source": [
    "List<string> places = new List<string> { \"first\", \"second\" };\n",
    " \n",
    "places.AddRange(new string[] { \"fifth\", \"sixth\" });\n",
    "// List is  \"first\", \"second\", \"fifth\", \"sixth\" ]\n",
    "places.InsertRange(2, new string[] { \"third\", \"fourth\"});\n",
    "// List is [ \"first\", \"second\", \"third\", \"fourth\", \"fifth\", \"sixth\" ]\n",
    "places.RemoveRange(4, 2);\n",
    "// List is [ \"first\", \"second\", \"third\", \"fourth\" ]\n",
    "List<string> newPlaces = places.GetRange(0, 3);\n",
    "// New list is [ \"first\", \"second\", \"third\" ]"
   ]
  },
  {
   "cell_type": "markdown",
   "id": "ba54391d-1f1e-42eb-9daa-ced31aed0863",
   "metadata": {},
   "source": [
    "## Example"
   ]
  },
  {
   "cell_type": "code",
   "execution_count": 4,
   "id": "b897a286-9bd8-436a-a7c7-35674c63598a",
   "metadata": {},
   "outputs": [
    {
     "name": "stdout",
     "output_type": "stream",
     "text": [
      "144.07\n",
      "143.12\n",
      "146.73\n"
     ]
    }
   ],
   "source": [
    "List<double> marathons = new List<double>\n",
    "      {\n",
    "        144.07,\n",
    "        143.12,\n",
    "        146.73,\n",
    "        146.33\n",
    "      };\n",
    "\n",
    "      List<double> topMarathons = marathons.GetRange(0, 3);\n",
    "\n",
    "foreach(double m in topMarathons){\n",
    "  Console.WriteLine(m);\n",
    "}"
   ]
  },
  {
   "cell_type": "markdown",
   "id": "eea431c8-7ae1-48cd-94c3-52a1f08ab5f1",
   "metadata": {},
   "source": [
    "# Looping through Lists\n",
    "## We can loop using both _foreach_ or _for_ loops\n",
    "## If using for loops make sure to use **Count** to stay within the bounds of the list. "
   ]
  },
  {
   "cell_type": "code",
   "execution_count": null,
   "id": "374ea2c3-82b2-42ae-afc4-cebfd1823b56",
   "metadata": {},
   "outputs": [],
   "source": [
    "for (int i = 0; i < numbers.Count; i++)\n",
    "{\n",
    "   Console.WriteLine(numbers[i]);\n",
    "}"
   ]
  },
  {
   "cell_type": "markdown",
   "id": "b0f3ab08-e008-41ba-8b2d-8db9029bc048",
   "metadata": {},
   "source": [
    "## If the index is used in the operation - like printing out each index and element together - then we use _for loops_"
   ]
  },
  {
   "cell_type": "markdown",
   "id": "17a104ee-d865-4e80-b217-d58ba6033339",
   "metadata": {},
   "source": [
    "# Example"
   ]
  },
  {
   "cell_type": "code",
   "execution_count": 5,
   "id": "34a916a7-b549-4b66-b353-38a6bb5b4834",
   "metadata": {},
   "outputs": [
    {
     "name": "stdout",
     "output_type": "stream",
     "text": [
      "In reverse chronological order, the gold medalists are...\n",
      "1: Jemima Sumgong\n",
      "2: Tiki Gelana\n",
      "3: Constantina Tomescu\n",
      "4: Mizuki Noguchi\n",
      "\n",
      "Printing runner bibs...\n",
      "625 - JEMIMA SUMGONG\n",
      "323 - TIKI GELANA\n",
      "361 - CONSTANTINA TOMESCU\n",
      "417 - MIZUKI NOGUCHI\n"
     ]
    }
   ],
   "source": [
    "List<string> runners = new List<string> { \"Jemima Sumgong\", \"Tiki Gelana\", \"Constantina Tomescu\", \"Mizuki Noguchi\" };\n",
    "      Random rand = new Random();\n",
    "      \n",
    "      Console.WriteLine(\"In reverse chronological order, the gold medalists are...\");\n",
    "      \n",
    "      // First loop\n",
    "      for (int i = 0; i < runners.Count; i++)\n",
    "      {\n",
    "        Console.WriteLine($\"{i+1}: {runners[i]}\");\n",
    "      }\n",
    "      \n",
    "      Console.WriteLine(\"\\nPrinting runner bibs...\");\n",
    "      \n",
    "      // Second loop\n",
    "      foreach(string r in runners )\n",
    "      {\n",
    "        string name = r.ToUpper();\n",
    "        int id = rand.Next(100, 1000);\n",
    "        Console.WriteLine($\"{id} - {name}\");\n",
    "      }"
   ]
  },
  {
   "cell_type": "markdown",
   "id": "7e928155-9d12-4d8c-96d9-a9e10666260e",
   "metadata": {},
   "source": [
    "# Generic Collections"
   ]
  },
  {
   "cell_type": "code",
   "execution_count": null,
   "id": "ceb4a7c5-8996-46bc-b23c-a86aa2e5296c",
   "metadata": {},
   "outputs": [],
   "source": [
    "using System.Collections.Generic;"
   ]
  },
  {
   "cell_type": "markdown",
   "id": "424c12cb-6f58-48af-a151-5ff6d06abac4",
   "metadata": {},
   "source": [
    "## The _List_ class is in a group of classes called _generic collections_\n",
    "## Generic collections are datastructures that are defined with a **Generic _Type_**\n",
    "## Each class is defined generally without a _specific type_ in mind."
   ]
  },
  {
   "cell_type": "code",
   "execution_count": 6,
   "id": "e6cde445-e10e-4816-bb90-ccfacc62e4ec",
   "metadata": {},
   "outputs": [],
   "source": [
    "List<string> citiesList = new List<string>();\n",
    "List<Object> objects = new List<Object>();"
   ]
  },
  {
   "cell_type": "markdown",
   "id": "8ef6d7d6-d027-432f-911f-55c20ea26345",
   "metadata": {},
   "source": [
    "## For this reason, the formal class name of lists is _List< T >_ .\n",
    "## _T_ stands for type paramenter that we can specify later."
   ]
  },
  {
   "cell_type": "markdown",
   "id": "d0d7dcc2-6da8-4b5b-a4d1-161fcb0944ae",
   "metadata": {},
   "source": [
    "## Let’s see why this is useful by imagining the other, more difficult ways we could create “generic” collections:\n",
    "* ## Use type-specific classes, like StringList, IntList, etc. — We would have to make a list class for EVERY type, defining the same properties and methods for each list class.\n",
    "* ## Use a list containing Object types, List< Object > — Using Object means we can’t use any of the unique functionality of each type and it takes a lot of computing power to convert references to and from the Object type."
   ]
  },
  {
   "cell_type": "markdown",
   "id": "c59e4825-7562-4e16-9a70-49f5ed4ee814",
   "metadata": {},
   "source": [
    "## Example"
   ]
  },
  {
   "cell_type": "code",
   "execution_count": 8,
   "id": "e5b0f901-321b-4667-90dc-89c5c7b0444a",
   "metadata": {},
   "outputs": [],
   "source": [
    "List<bool> boolList = new List<bool>();\n",
    "List<Random> randList = new List<Random>();\n",
    "List<IServiceProvider> interfaceList = new List<IServiceProvider>();"
   ]
  },
  {
   "cell_type": "markdown",
   "id": "88128dec-d97c-4d92-b2b4-8b33f8053f53",
   "metadata": {},
   "source": [
    "## Interfaces works here as well! We can create a list of interfaces(?)"
   ]
  }
 ],
 "metadata": {
  "kernelspec": {
   "display_name": ".NET (C#)",
   "language": "C#",
   "name": ".net-csharp"
  },
  "language_info": {
   "file_extension": ".cs",
   "mimetype": "text/x-csharp",
   "name": "C#",
   "pygments_lexer": "csharp",
   "version": "8.0"
  }
 },
 "nbformat": 4,
 "nbformat_minor": 5
}
